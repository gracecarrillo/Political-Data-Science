{
  "nbformat": 4,
  "nbformat_minor": 0,
  "metadata": {
    "colab": {
      "name": "Model_Evaluation-Sentiment_Analysis_Scotref2.ipynb",
      "provenance": [],
      "collapsed_sections": [],
      "include_colab_link": true
    },
    "kernelspec": {
      "name": "python3",
      "display_name": "Python 3"
    },
    "accelerator": "GPU"
  },
  "cells": [
    {
      "cell_type": "markdown",
      "metadata": {
        "id": "view-in-github",
        "colab_type": "text"
      },
      "source": [
        "<a href=\"https://colab.research.google.com/github/gracecarrillo/Political-Data-Science/blob/master/Model_Evaluation_Sentiment_Analysis_Scotref2.ipynb\" target=\"_parent\"><img src=\"https://colab.research.google.com/assets/colab-badge.svg\" alt=\"Open In Colab\"/></a>"
      ]
    },
    {
      "cell_type": "markdown",
      "metadata": {
        "id": "ma5cRQJafwRY",
        "colab_type": "text"
      },
      "source": [
        "# Scottish independence: Twitter data Sentiment Analysis\n",
        "\n"
      ]
    },
    {
      "cell_type": "markdown",
      "metadata": {
        "id": "mFiPGpFfkIUU",
        "colab_type": "text"
      },
      "source": [
        "### 6. Model Evaluation\n",
        "  - Confusion Matrix\n",
        "  - Accuracy, Recall, Precision and F1-Scores"
      ]
    },
    {
      "cell_type": "code",
      "metadata": {
        "id": "oP1c5gDe2M6-",
        "colab_type": "code",
        "colab": {}
      },
      "source": [
        "# Must be upgraded\n",
        "!pip install tqdm==4.36.1 --upgrade"
      ],
      "execution_count": 0,
      "outputs": []
    },
    {
      "cell_type": "code",
      "metadata": {
        "id": "pUU5MOCAP1j0",
        "colab_type": "code",
        "colab": {}
      },
      "source": [
        "!pip install tweet_parser"
      ],
      "execution_count": 0,
      "outputs": []
    },
    {
      "cell_type": "code",
      "metadata": {
        "id": "v0Xc0nZtWke9",
        "colab_type": "code",
        "colab": {}
      },
      "source": [
        "!pip install --upgrade gensim"
      ],
      "execution_count": 0,
      "outputs": []
    },
    {
      "cell_type": "code",
      "metadata": {
        "id": "VOnd_sShyvQx",
        "colab_type": "code",
        "colab": {}
      },
      "source": [
        "!pip install vaderSentiment"
      ],
      "execution_count": 0,
      "outputs": []
    },
    {
      "cell_type": "code",
      "metadata": {
        "id": "rk4fAdKjRIdC",
        "colab_type": "code",
        "colab": {}
      },
      "source": [
        "from google.colab import drive\n",
        "drive.mount('/content/drive')"
      ],
      "execution_count": 0,
      "outputs": []
    },
    {
      "cell_type": "code",
      "metadata": {
        "id": "cpXSoADwxTTs",
        "colab_type": "code",
        "colab": {
          "base_uri": "https://localhost:8080/",
          "height": 35
        },
        "outputId": "cea166a0-19cb-4e99-fb4b-f09e8baa41fd"
      },
      "source": [
        "# general\n",
        "import os\n",
        "import pandas as pd\n",
        "import numpy as np\n",
        "import csv\n",
        "import string\n",
        "import matplotlib.pyplot as plt\n",
        "import seaborn as sns\n",
        "import random\n",
        "import itertools\n",
        "import collections\n",
        "from collections import Counter\n",
        "\n",
        "# tweets\n",
        "import tweepy as tw\n",
        "import re\n",
        "from collections import Counter\n",
        "from string import punctuation\n",
        "from tweepy import OAuthHandler\n",
        "import json\n",
        "\n",
        "# text manipulation \n",
        "import nltk \n",
        "from nltk.corpus import stopwords\n",
        "from nltk.tokenize import TweetTokenizer\n",
        "from nltk.stem.wordnet import WordNetLemmatizer\n",
        "from nltk.stem.porter import PorterStemmer\n",
        "from nltk.stem.porter import * \n",
        "\n",
        "# plots\n",
        "from wordcloud import WordCloud\n",
        "import plotly\n",
        "import chart_studio.plotly as py\n",
        "import plotly.graph_objs as go \n",
        "from plotly.offline import download_plotlyjs, init_notebook_mode, plot, iplot\n",
        "import cufflinks as cf\n",
        "cf.go_offline()\n",
        "\n",
        "# Feature Engineering\n",
        "from vaderSentiment.vaderSentiment import SentimentIntensityAnalyzer\n",
        "\n",
        "# Machine Learning\n",
        "from sklearn.pipeline import Pipeline\n",
        "from sklearn.pipeline import FeatureUnion\n",
        "from sklearn.model_selection import train_test_split\n",
        "from sklearn.model_selection import KFold, cross_val_score\n",
        "from sklearn.ensemble import RandomForestClassifier\n",
        "from sklearn.naive_bayes import MultinomialNB\n",
        "from sklearn.svm import LinearSVC\n",
        "from sklearn.model_selection import GridSearchCV\n",
        "from sklearn.externals import joblib\n",
        "from sklearn.base import BaseEstimator, TransformerMixin\n",
        "from sklearn.feature_extraction.text import TfidfVectorizer, HashingVectorizer, CountVectorizer\n",
        "from sklearn.preprocessing import MinMaxScaler\n",
        "from sklearn.preprocessing import LabelEncoder\n",
        "\n",
        "# Model Evaluation\n",
        "from numpy import loadtxt\n",
        "from keras.models import load_model\n",
        "from sklearn.metrics import confusion_matrix, classification_report\n",
        "import itertools\n",
        "\n",
        "# For geoplots\n",
        "from IPython.display import IFrame\n",
        "import folium\n",
        "from folium import plugins\n",
        "from folium.plugins import MarkerCluster, FastMarkerCluster, HeatMapWithTime\n",
        "import networkx\n",
        "\n",
        "# set plot preferences\n",
        "plt.style.use(style='ggplot')\n",
        "plt.rcParams['figure.figsize'] = (10, 6)\n",
        "pd.set_option(\"display.max_colwidth\", 200) \n",
        "\n",
        "# hide warnings\n",
        "import warnings\n",
        "warnings.filterwarnings(\"ignore\")\n",
        "\n",
        "print('Libraries imported')\n",
        "%matplotlib inline"
      ],
      "execution_count": 107,
      "outputs": [
        {
          "output_type": "display_data",
          "data": {
            "text/html": [
              "        <script type=\"text/javascript\">\n",
              "        window.PlotlyConfig = {MathJaxConfig: 'local'};\n",
              "        if (window.MathJax) {MathJax.Hub.Config({SVG: {font: \"STIX-Web\"}});}\n",
              "        if (typeof require !== 'undefined') {\n",
              "        require.undef(\"plotly\");\n",
              "        requirejs.config({\n",
              "            paths: {\n",
              "                'plotly': ['https://cdn.plot.ly/plotly-latest.min']\n",
              "            }\n",
              "        });\n",
              "        require(['plotly'], function(Plotly) {\n",
              "            window._Plotly = Plotly;\n",
              "        });\n",
              "        }\n",
              "        </script>\n",
              "        "
            ]
          },
          "metadata": {
            "tags": []
          }
        },
        {
          "output_type": "stream",
          "text": [
            "Libraries imported\n"
          ],
          "name": "stdout"
        }
      ]
    },
    {
      "cell_type": "markdown",
      "metadata": {
        "id": "rIrvUtEEUxyE",
        "colab_type": "text"
      },
      "source": [
        "## 7. Evaluation\n",
        "\n",
        "To get intuition about models capacity, we will look deeper into the following metrics:\n",
        "\n",
        "- Confusion Matrix\n",
        "- Accuracy, Recall, Precision and F1-Scores\n"
      ]
    },
    {
      "cell_type": "markdown",
      "metadata": {
        "id": "S6WvzhLFppu7",
        "colab_type": "text"
      },
      "source": [
        "First, we must import all our model's predictions and test data:"
      ]
    },
    {
      "cell_type": "code",
      "metadata": {
        "id": "OOyRjymKj3ZJ",
        "colab_type": "code",
        "colab": {
          "base_uri": "https://localhost:8080/",
          "height": 35
        },
        "outputId": "037cfbc9-5cde-4274-8e98-87fb1f3a79bc"
      },
      "source": [
        "# Set up labels\n",
        "labels = LabelEncoder().fit(['negative', 'positive'])\n",
        "\n",
        "# Import supervised learning model predictions\n",
        "y_pred_nb = np.load('/content/drive/My Drive/Twitter_Project/y_predsNB.npy')\n",
        "y_pred_svm = np.load('/content/drive/My Drive/Twitter_Project/y_predsSVM.npy')\n",
        "\n",
        "# Import supervised learning models test data\n",
        "y_test = np.load('/content/drive/My Drive/Twitter_Project/y_test.npy')\n",
        "\n",
        "# Import deep learning predictions\n",
        "y_preds_LSTM = np.load('/content/drive/My Drive/Twitter_Project/y_predsLSTM.npy')\n",
        "y_preds_LSTMreg = np.load('/content/drive/My Drive/Twitter_Project/y_predsLSTMreg.npy')\n",
        "\n",
        "# To output vector of labels for confusion matrix\n",
        "y_preds_LSTM = np.argmax(y_preds_LSTM, axis=1)\n",
        "y_preds_LSTMreg = np.argmax(y_preds_LSTMreg, axis=1)\n",
        "\n",
        "# Import deep learning test data\n",
        "Y_test = np.load('/content/drive/My Drive/Twitter_Project/y_testLSTM.npy')\n",
        "Y_test = np.argmax(Y_test, axis = 1)\n",
        "\n",
        "print('Predictions and test data imported')"
      ],
      "execution_count": 18,
      "outputs": [
        {
          "output_type": "stream",
          "text": [
            "Predictions and test data imported\n"
          ],
          "name": "stdout"
        }
      ]
    },
    {
      "cell_type": "markdown",
      "metadata": {
        "id": "cDTPVV4Pp291",
        "colab_type": "text"
      },
      "source": [
        "\n",
        "### 7.1 Confusion Matrices\n",
        "\n",
        "With the help of the following functions (source code: [notebook](https://github.com/vtoliveira/advanced-data-science-capstone/blob/master/Model%20Evaluation%20(Deep%20Learning%20and%20Classical%20Algorithms)%20-%20Twitter%20US%20Airline%20Sentiment.ipynb)) we'll plot an analyse the Confusion Matrices."
      ]
    },
    {
      "cell_type": "code",
      "metadata": {
        "id": "BdL50Q0XNQw2",
        "colab_type": "code",
        "colab": {}
      },
      "source": [
        "# Confusion Matrix helper function\n",
        "plt.style.use(style='ggplot')\n",
        "plt.rcParams.update({'font.size': 12})\n",
        "\n",
        "def plot_confusion_matrix(cm, classes,\n",
        "                          normalize=False,\n",
        "                          title='Confusion matrix',\n",
        "                          cmap=plt.cm.Reds):\n",
        "    \"\"\"\n",
        "    This function prints and plots the confusion matrix.\n",
        "    Normalization can be applied by setting `normalize=True`.\n",
        "    \"\"\"\n",
        "    if normalize:\n",
        "        cm = cm.astype('float') / cm.sum(axis=1)[:, np.newaxis]\n",
        "        #print(\"Normalized confusion matrix\")\n",
        "    else:\n",
        "        print('Confusion matrix, without normalization')\n",
        "\n",
        "\n",
        "    plt.imshow(cm, interpolation='nearest', cmap=cmap)\n",
        "    plt.title(title)\n",
        "    plt.colorbar()\n",
        "    tick_marks = np.arange(len(classes))\n",
        "    plt.xticks(tick_marks, classes, rotation=45)\n",
        "    plt.yticks(tick_marks, classes)\n",
        "\n",
        "    fmt = '.2f' if normalize else 'd'\n",
        "    thresh = cm.max() / 2.\n",
        "    for i, j in itertools.product(range(cm.shape[0]), range(cm.shape[1])):\n",
        "        plt.text(j, i, format(cm[i, j], fmt),\n",
        "                 horizontalalignment=\"center\",\n",
        "                 color=\"white\" if cm[i, j] > thresh else \"black\")\n",
        "\n",
        "    plt.ylabel('True label')\n",
        "    plt.xlabel('Predicted label')\n",
        "    plt.tight_layout()\n"
      ],
      "execution_count": 0,
      "outputs": []
    },
    {
      "cell_type": "code",
      "metadata": {
        "id": "uAS4IyfqqeAC",
        "colab_type": "code",
        "colab": {
          "base_uri": "https://localhost:8080/",
          "height": 817
        },
        "outputId": "06df34ef-045d-46c7-8cf0-229686319f3c"
      },
      "source": [
        "#--- Naive Bayes Classifier ---#\n",
        "\n",
        "# Compute confusion matrix\n",
        "cnf_matrix = confusion_matrix(y_test, y_pred_nb)\n",
        "np.set_printoptions(precision=2)\n",
        "\n",
        "# Plot normalized confusion matrix\n",
        "fig = plt.figure(figsize=(20,15))\n",
        "fig.add_subplot(3,3,1)\n",
        "plot_confusion_matrix(cnf_matrix, classes=['negative', 'positive'], normalize=True,\n",
        "                      title='Normalized Confusion Matrix for Naive Bayes Classifier')\n",
        "\n",
        "#--- Support Vector Machine Classifier ---#\n",
        "\n",
        "# Compute confusion matrix\n",
        "cnf_matrix = confusion_matrix(y_test, y_pred_svm)\n",
        "np.set_printoptions(precision=2)\n",
        "\n",
        "# Plot normalized confusion matrix\n",
        "fig.add_subplot(3,3,2)\n",
        "plot_confusion_matrix(cnf_matrix, classes=['negative', 'positive'], normalize=True,\n",
        "                      title='Normalized confusion matrix for SVM Classifier')\n",
        "\n",
        "\n",
        "#--- LSTM Recurrent Neural Network ---#\n",
        "\n",
        "# Compute confusion matrix\n",
        "cnf_matrix = confusion_matrix(Y_test, y_preds_LSTM)\n",
        "np.set_printoptions(precision=2)\n",
        "\n",
        "# Plot normalized confusion matrix\n",
        "fig = plt.figure(figsize=(20,15))\n",
        "fig.add_subplot(3,3,1)\n",
        "plot_confusion_matrix(cnf_matrix, classes=['negative', 'positive'], normalize=True,\n",
        "                      title='LSTM Neural Network')\n",
        "\n",
        "#--- LSTM Recurrent Neural Network with regularisation ---#\n",
        "\n",
        "# Compute confusion matrix\n",
        "\n",
        "cnf_matrix = confusion_matrix(Y_test, y_preds_LSTMreg)\n",
        "np.set_printoptions(precision=2)\n",
        "\n",
        "# Plot normalized confusion matrix\n",
        "fig.add_subplot(3,3,2)\n",
        "plot_confusion_matrix(cnf_matrix, classes=['negative', 'positive'], normalize=True,\n",
        "                      title='LSTM Neural Network with regularisation')\n",
        "\n",
        "plt.savefig('/content/drive/My Drive/Twitter_Project/ConfusionMatrices.png', bbox_inches='tight')\n",
        "plt.show()"
      ],
      "execution_count": 110,
      "outputs": [
        {
          "output_type": "display_data",
          "data": {
            "image/png": "[encoded data removed]",
            "text/plain": [
              "<Figure size 1440x1080 with 4 Axes>"
            ]
          },
          "metadata": {
            "tags": []
          }
        },
        {
          "output_type": "display_data",
          "data": {
            "image/png": "[encoded data removed]",
            "text/plain": [
              "<Figure size 1440x1080 with 4 Axes>"
            ]
          },
          "metadata": {
            "tags": []
          }
        }
      ]
    },
    {
      "cell_type": "markdown",
      "metadata": {
        "id": "zSGFOgYa833B",
        "colab_type": "text"
      },
      "source": [
        "### From the confusion matrices:\n",
        "\n",
        "- **Naive Bayes Classifier**: The model predicted 76% of labels correctly as negative and 73% correctly as positive. The model predicted 27% of the labels as negative, but they were positive (false negatives). The model predicted 24% of the labels as positive when they were negative (false postive).\n",
        "\n",
        "- **SVM Classifier**: The model predicted 75% of labels correctly as negative and 75% correctly as positive. The model predicted 25% of the labels as negative, but they were positive (false negatives). The model predicted 25% of the labels as positive when they were negative (false postive).\n",
        "\n",
        "- **LSTM Neural Network**: The model predicted 76% of labels correctly as negative and 73% correctly as positive. The model predicted 27% of the labels as negative, but they were positive (false negatives). The model predicted 24% of the labels as positive when they were negative (false postive).\n",
        "\n",
        "- **LSTM Neural Network with Regularisation**: The model predicted 74% of labels correctly as negative and 73% correctly as positive. The model predicted 25% of the labels as negative, but they were positive (false negatives). The model predicted 26% of the labels as positive when they were negative (false postive), which is a bit of an improvement in accuracy over the first RNN model."
      ]
    },
    {
      "cell_type": "markdown",
      "metadata": {
        "id": "THFbV5RfvX1u",
        "colab_type": "text"
      },
      "source": [
        "### 7.2 Accuracy, Recall, Precision and F1-Scores\n",
        "\n",
        "Now we generate a classification report. We'll save it as a pandas dataframe for better formatting, with the help of a helper function (modified from source code [here](https://gist.github.com/wassname/f3cbdc14f379ba9ec2acfafe5c1db592))."
      ]
    },
    {
      "cell_type": "code",
      "metadata": {
        "id": "Oo8SOFmVKc1k",
        "colab_type": "code",
        "colab": {}
      },
      "source": [
        "# Helper function for Classification Report \n",
        "\n",
        "def classification_report_asdf(test, pred, output_dict=True):\n",
        "  ''' ------------------------------\n",
        "  Function to return a classification report \n",
        "  as dataframe, with rounded scores. \n",
        "  --- Parameters:----\n",
        "  test = test data as array\n",
        "  pred = prediction data array\n",
        "  output_dic = set to True\n",
        "  ------------------------\n",
        "  '''\n",
        "  # extract scores as dictionary\n",
        "  report = classification_report(test,pred, output_dict=output_dict)\n",
        "  df_report = pd.DataFrame(report).transpose()\n",
        "  #round\n",
        "  df_report[[\"precision\",\"recall\",\"f1-score\"]]= df_report[[\"precision\",\"recall\",\"f1-score\"]].apply(lambda x: round(x,2))\n",
        "  df_report[[\"support\"]]= df_report[[\"support\"]].apply(lambda x: x.astype(np.int))\n",
        "  # Add suport to avg\n",
        "  df_report.loc['accuracy', 'support'] = df_report.loc['weighted avg', 'support']\n",
        "\n",
        "  return df_report"
      ],
      "execution_count": 0,
      "outputs": []
    },
    {
      "cell_type": "code",
      "metadata": {
        "id": "hTJJ3RxZKmkl",
        "colab_type": "code",
        "colab": {
          "base_uri": "https://localhost:8080/",
          "height": 233
        },
        "outputId": "97f07b80-9922-4bbe-de26-8d8bc98cda9e"
      },
      "source": [
        "# Classification reports for Supervised ML models\n",
        "\n",
        "#--- Naive Bayes Classifier ----#\n",
        "report_nb = classification_report_asdf(y_test, y_pred_nb)\n",
        "\n",
        "#--- SVM Classifier ----#\n",
        "report_svm = classification_report_asdf(y_test, y_pred_svm)\n",
        "\n",
        "#--- Add reports together ----#\n",
        "SML_dfs = [report_nb, report_svm]\n",
        "\n",
        "SML_dfs_combined = pd.concat(\n",
        "    [df.rename(columns=lambda x: x.zfill(4)) for df in SML_dfs],\n",
        "    keys=['Naive Bayes Classifier', 'SVM Classifier'],\n",
        "    axis=1\n",
        ")\n",
        "\n",
        "# Show reports\n",
        "SML_dfs_combined"
      ],
      "execution_count": 98,
      "outputs": [
        {
          "output_type": "execute_result",
          "data": {
            "text/html": [
              "<div>\n",
              "<style scoped>\n",
              "    .dataframe tbody tr th:only-of-type {\n",
              "        vertical-align: middle;\n",
              "    }\n",
              "\n",
              "    .dataframe tbody tr th {\n",
              "        vertical-align: top;\n",
              "    }\n",
              "\n",
              "    .dataframe thead tr th {\n",
              "        text-align: left;\n",
              "    }\n",
              "</style>\n",
              "<table border=\"1\" class=\"dataframe\">\n",
              "  <thead>\n",
              "    <tr>\n",
              "      <th></th>\n",
              "      <th colspan=\"4\" halign=\"left\">Naive Bayes Classifier</th>\n",
              "      <th colspan=\"4\" halign=\"left\">SVM Classifier</th>\n",
              "    </tr>\n",
              "    <tr>\n",
              "      <th></th>\n",
              "      <th>precision</th>\n",
              "      <th>recall</th>\n",
              "      <th>f1-score</th>\n",
              "      <th>support</th>\n",
              "      <th>precision</th>\n",
              "      <th>recall</th>\n",
              "      <th>f1-score</th>\n",
              "      <th>support</th>\n",
              "    </tr>\n",
              "  </thead>\n",
              "  <tbody>\n",
              "    <tr>\n",
              "      <th>0</th>\n",
              "      <td>0.75</td>\n",
              "      <td>0.73</td>\n",
              "      <td>0.74</td>\n",
              "      <td>7313</td>\n",
              "      <td>0.76</td>\n",
              "      <td>0.75</td>\n",
              "      <td>0.75</td>\n",
              "      <td>7313</td>\n",
              "    </tr>\n",
              "    <tr>\n",
              "      <th>1</th>\n",
              "      <td>0.73</td>\n",
              "      <td>0.75</td>\n",
              "      <td>0.74</td>\n",
              "      <td>7035</td>\n",
              "      <td>0.74</td>\n",
              "      <td>0.75</td>\n",
              "      <td>0.75</td>\n",
              "      <td>7035</td>\n",
              "    </tr>\n",
              "    <tr>\n",
              "      <th>accuracy</th>\n",
              "      <td>0.74</td>\n",
              "      <td>0.74</td>\n",
              "      <td>0.74</td>\n",
              "      <td>14348</td>\n",
              "      <td>0.75</td>\n",
              "      <td>0.75</td>\n",
              "      <td>0.75</td>\n",
              "      <td>14348</td>\n",
              "    </tr>\n",
              "    <tr>\n",
              "      <th>macro avg</th>\n",
              "      <td>0.74</td>\n",
              "      <td>0.74</td>\n",
              "      <td>0.74</td>\n",
              "      <td>14348</td>\n",
              "      <td>0.75</td>\n",
              "      <td>0.75</td>\n",
              "      <td>0.75</td>\n",
              "      <td>14348</td>\n",
              "    </tr>\n",
              "    <tr>\n",
              "      <th>weighted avg</th>\n",
              "      <td>0.74</td>\n",
              "      <td>0.74</td>\n",
              "      <td>0.74</td>\n",
              "      <td>14348</td>\n",
              "      <td>0.75</td>\n",
              "      <td>0.75</td>\n",
              "      <td>0.75</td>\n",
              "      <td>14348</td>\n",
              "    </tr>\n",
              "  </tbody>\n",
              "</table>\n",
              "</div>"
            ],
            "text/plain": [
              "             Naive Bayes Classifier                  ... SVM Classifier                 \n",
              "                          precision recall f1-score  ...         recall f1-score support\n",
              "0                              0.75   0.73     0.74  ...           0.75     0.75    7313\n",
              "1                              0.73   0.75     0.74  ...           0.75     0.75    7035\n",
              "accuracy                       0.74   0.74     0.74  ...           0.75     0.75   14348\n",
              "macro avg                      0.74   0.74     0.74  ...           0.75     0.75   14348\n",
              "weighted avg                   0.74   0.74     0.74  ...           0.75     0.75   14348\n",
              "\n",
              "[5 rows x 8 columns]"
            ]
          },
          "metadata": {
            "tags": []
          },
          "execution_count": 98
        }
      ]
    },
    {
      "cell_type": "code",
      "metadata": {
        "id": "xCqx16vzwpMX",
        "colab_type": "code",
        "colab": {
          "base_uri": "https://localhost:8080/",
          "height": 233
        },
        "outputId": "352a6bec-ec73-4d32-e624-0dc686da317e"
      },
      "source": [
        "# Classification report for RNN models\n",
        "\n",
        "#---- LSTM Network ----#\n",
        "report_LSTM = classification_report_asdf(Y_test, y_preds_LSTM)\n",
        "\n",
        "#---- LSTM Network with regularisation ----#\n",
        "report_LSTMreg = classification_report_asdf(Y_test, y_preds_LSTMreg)\n",
        "\n",
        "\n",
        "#--- Add reports together ----#\n",
        "RNN_dfs = [report_LSTM, report_LSTMreg]\n",
        "\n",
        "RNN_dfs_combined = pd.concat(\n",
        "    [df.rename(columns=lambda x: x.zfill(4)) for df in RNN_dfs],\n",
        "    keys=['LSTM Network', 'LSTM Network with regularisation'],\n",
        "    axis=1\n",
        ")\n",
        "\n",
        "# Show reports\n",
        "RNN_dfs_combined"
      ],
      "execution_count": 100,
      "outputs": [
        {
          "output_type": "execute_result",
          "data": {
            "text/html": [
              "<div>\n",
              "<style scoped>\n",
              "    .dataframe tbody tr th:only-of-type {\n",
              "        vertical-align: middle;\n",
              "    }\n",
              "\n",
              "    .dataframe tbody tr th {\n",
              "        vertical-align: top;\n",
              "    }\n",
              "\n",
              "    .dataframe thead tr th {\n",
              "        text-align: left;\n",
              "    }\n",
              "</style>\n",
              "<table border=\"1\" class=\"dataframe\">\n",
              "  <thead>\n",
              "    <tr>\n",
              "      <th></th>\n",
              "      <th colspan=\"4\" halign=\"left\">LSTM Network</th>\n",
              "      <th colspan=\"4\" halign=\"left\">LSTM Network with regularisation</th>\n",
              "    </tr>\n",
              "    <tr>\n",
              "      <th></th>\n",
              "      <th>precision</th>\n",
              "      <th>recall</th>\n",
              "      <th>f1-score</th>\n",
              "      <th>support</th>\n",
              "      <th>precision</th>\n",
              "      <th>recall</th>\n",
              "      <th>f1-score</th>\n",
              "      <th>support</th>\n",
              "    </tr>\n",
              "  </thead>\n",
              "  <tbody>\n",
              "    <tr>\n",
              "      <th>0</th>\n",
              "      <td>0.75</td>\n",
              "      <td>0.76</td>\n",
              "      <td>0.75</td>\n",
              "      <td>4860</td>\n",
              "      <td>0.75</td>\n",
              "      <td>0.74</td>\n",
              "      <td>0.75</td>\n",
              "      <td>4860</td>\n",
              "    </tr>\n",
              "    <tr>\n",
              "      <th>1</th>\n",
              "      <td>0.75</td>\n",
              "      <td>0.73</td>\n",
              "      <td>0.74</td>\n",
              "      <td>4705</td>\n",
              "      <td>0.74</td>\n",
              "      <td>0.75</td>\n",
              "      <td>0.74</td>\n",
              "      <td>4705</td>\n",
              "    </tr>\n",
              "    <tr>\n",
              "      <th>accuracy</th>\n",
              "      <td>0.75</td>\n",
              "      <td>0.75</td>\n",
              "      <td>0.75</td>\n",
              "      <td>9565</td>\n",
              "      <td>0.74</td>\n",
              "      <td>0.74</td>\n",
              "      <td>0.74</td>\n",
              "      <td>9565</td>\n",
              "    </tr>\n",
              "    <tr>\n",
              "      <th>macro avg</th>\n",
              "      <td>0.75</td>\n",
              "      <td>0.75</td>\n",
              "      <td>0.75</td>\n",
              "      <td>9565</td>\n",
              "      <td>0.74</td>\n",
              "      <td>0.74</td>\n",
              "      <td>0.74</td>\n",
              "      <td>9565</td>\n",
              "    </tr>\n",
              "    <tr>\n",
              "      <th>weighted avg</th>\n",
              "      <td>0.75</td>\n",
              "      <td>0.75</td>\n",
              "      <td>0.75</td>\n",
              "      <td>9565</td>\n",
              "      <td>0.74</td>\n",
              "      <td>0.74</td>\n",
              "      <td>0.74</td>\n",
              "      <td>9565</td>\n",
              "    </tr>\n",
              "  </tbody>\n",
              "</table>\n",
              "</div>"
            ],
            "text/plain": [
              "             LSTM Network                  ... LSTM Network with regularisation                 \n",
              "                precision recall f1-score  ...                           recall f1-score support\n",
              "0                    0.75   0.76     0.75  ...                             0.74     0.75    4860\n",
              "1                    0.75   0.73     0.74  ...                             0.75     0.74    4705\n",
              "accuracy             0.75   0.75     0.75  ...                             0.74     0.74    9565\n",
              "macro avg            0.75   0.75     0.75  ...                             0.74     0.74    9565\n",
              "weighted avg         0.75   0.75     0.75  ...                             0.74     0.74    9565\n",
              "\n",
              "[5 rows x 8 columns]"
            ]
          },
          "metadata": {
            "tags": []
          },
          "execution_count": 100
        }
      ]
    },
    {
      "cell_type": "markdown",
      "metadata": {
        "id": "IYM7dexr-pSD",
        "colab_type": "text"
      },
      "source": [
        "### From the classification reports:\n",
        "\n",
        "- **Naive Bayes Classifier**: \n",
        "  - *Precision (Accuracy of positive predictions)*: 75% for label negative and 75% for positive. This number tells us what proportion of fraction of predicted positive events that are actually positive .\n",
        "\n",
        "  - *Recall (aka sensitivity or true positive rate)*: 76% for negative and 73% for positive label. This is the number of correct predictions out of true labels for that class.\n",
        "\n",
        "  - *F1-Score (2 x (precision x recall)/(precision + recall)*: This is the weighted average of precision and recall for that class. It generally gives the bigger picture of how the model is performing for that label. The higher this number is the better. We have  75% for label negative and 74% for label postive.\n",
        "\n",
        "  - *Accuracy*: 74% is the number of times the model predicted the correct label over all labels in the dataset. This is most common metric for classification and shows the proportion of samples predicted correctly. When the distribution of the classes in data is well balanced, accuracy can give us a good picture of how the model is performing.\n",
        "\n",
        "  - *Support*: This is just the number of samples of the true response that lie in that class. \n",
        "<br>\n",
        "\n",
        "- **SVM Classifier**: \n",
        "  - *Precision*: 76% for label negative and 74% for positive.\n",
        "\n",
        "  - *Recall*: 74% for negative and 75% for positive label.\n",
        "\n",
        "  - *F1-Score*: 75% for label negative and 74% for label postive.\n",
        "\n",
        "  - *Accuracy*: 75%\n",
        "  <br>\n",
        "\n",
        "- **LSTM Neural Network**: \n",
        "  - *Precision*: 75% for label negative and 75% for positive.\n",
        "\n",
        "  - *Recall*: 76% for negative and 73% for positive label.\n",
        "\n",
        "  - *F1-Score*: 75% for label negative and 74% for label postive.\n",
        "\n",
        "  - *Accuracy*: 75%\n",
        "  <br>\n",
        "\n",
        "- **LSTM Neural Network with regularisation**: \n",
        "  - *Precision*: 75% for label negative and 74% for positive.\n",
        "\n",
        "  - *Recall*: 74% for negative and 75% for positive label.\n",
        "\n",
        "  - *F1-Score*: 75% for label negative and 74% for label postive.\n",
        "\n",
        "  - *Accuracy*: 74%"
      ]
    },
    {
      "cell_type": "markdown",
      "metadata": {
        "id": "ixFkf0nXTBsx",
        "colab_type": "text"
      },
      "source": [
        "### Choosing a model.\n",
        "\n",
        "From the above metrics, our models seem to be performing relatively well.\n",
        "\n",
        "According to research [human raters typically agree 80% of the time.](http://www.mecs-press.org/ijeme/ijeme-v7-n1/IJEME-V7-N1-3.pdf).\n",
        "\n",
        "Therefore a 75% accurate program is doing almost as good as humans, even though such accuracy may not seem all that impressive. If a program were 'right' 100% of the time, humans would still disagree with it.\n",
        "\n",
        "We can also benchmark our model against [similar work](https://www-sciencedirect-com.ezproxy.napier.ac.uk/science/article/pii/S1877050917328089). The final model was based on Support Vector Machine and went on to achieve an accuracy of 79.08%, which is not far from our models' results.\n",
        "\n",
        "Both SVM and LSTM netword classifier without regularisation outperformed the other models by 1%, achieving 75% accuracy.\n",
        "\n",
        "Thus, the performance of SVM is found to be better than other models and is the one we will use for our next steps.\n",
        "\n",
        "Ultimately the true test is testing the model on unseen, real world data.\n",
        "\n",
        "We will now run sentiment predictions with our chosen model on the data we acquired during ETL via the twitter API and evaluate its performance."
      ]
    }
  ]
}