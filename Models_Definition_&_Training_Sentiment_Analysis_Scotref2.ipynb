{
  "nbformat": 4,
  "nbformat_minor": 0,
  "metadata": {
    "colab": {
      "name": "Models_Definition_&_Training - Sentiment_Analysis_Scotref2.ipynb",
      "provenance": [],
      "collapsed_sections": [],
      "include_colab_link": true
    },
    "kernelspec": {
      "name": "python3",
      "display_name": "Python 3"
    },
    "accelerator": "GPU"
  },
  "cells": [
    {
      "cell_type": "markdown",
      "metadata": {
        "id": "view-in-github",
        "colab_type": "text"
      },
      "source": [
        "<a href=\"https://colab.research.google.com/github/gracecarrillo/Political-Data-Science/blob/master/Models_Definition_%26_Training_Sentiment_Analysis_Scotref2.ipynb\" target=\"_parent\"><img src=\"https://colab.research.google.com/assets/colab-badge.svg\" alt=\"Open In Colab\"/></a>"
      ]
    },
    {
      "cell_type": "markdown",
      "metadata": {
        "id": "ma5cRQJafwRY",
        "colab_type": "text"
      },
      "source": [
        "# Scottish independence: Twitter data Sentiment Analysis\n",
        "\n"
      ]
    },
    {
      "cell_type": "markdown",
      "metadata": {
        "id": "mFiPGpFfkIUU",
        "colab_type": "text"
      },
      "source": [
        "\n",
        "## 5. Supervised Machine Learning Models\n",
        "  - Naive Bayes\n",
        "  - Support Vector Machine\n",
        "\n",
        "## 6. Deep Learning Model\n",
        "  - LSTM Recurrent Neural Network"
      ]
    },
    {
      "cell_type": "code",
      "metadata": {
        "id": "oP1c5gDe2M6-",
        "colab_type": "code",
        "colab": {}
      },
      "source": [
        "# Must be upgraded\n",
        "!pip install tqdm==4.36.1 --upgrade"
      ],
      "execution_count": 0,
      "outputs": []
    },
    {
      "cell_type": "code",
      "metadata": {
        "id": "v0Xc0nZtWke9",
        "colab_type": "code",
        "outputId": "fadf0d0e-543a-4c49-a353-9bc0584a9602",
        "colab": {
          "base_uri": "https://localhost:8080/",
          "height": 35
        }
      },
      "source": [
        "!pip install --upgrade gensim "
      ],
      "execution_count": 0,
      "outputs": [
        {
          "output_type": "stream",
          "text": [
            "Successfully installed gensim-3.8.1\n"
          ],
          "name": "stdout"
        }
      ]
    },
    {
      "cell_type": "code",
      "metadata": {
        "id": "vR4yTNihbqdc",
        "colab_type": "code",
        "colab": {}
      },
      "source": [
        "!pip install vaderSentiment"
      ],
      "execution_count": 0,
      "outputs": []
    },
    {
      "cell_type": "code",
      "metadata": {
        "id": "rk4fAdKjRIdC",
        "colab_type": "code",
        "colab": {}
      },
      "source": [
        "from google.colab import drive\n",
        "drive.mount('/content/drive')"
      ],
      "execution_count": 0,
      "outputs": []
    },
    {
      "cell_type": "code",
      "metadata": {
        "id": "cpXSoADwxTTs",
        "colab_type": "code",
        "colab": {}
      },
      "source": [
        "# general\n",
        "import os\n",
        "import time\n",
        "import pandas as pd\n",
        "import numpy as np\n",
        "import csv\n",
        "import string\n",
        "import matplotlib.pyplot as plt\n",
        "import seaborn as sns\n",
        "import random\n",
        "import itertools\n",
        "import collections\n",
        "from collections import Counter\n",
        "\n",
        "# tweets\n",
        "import tweepy as tw\n",
        "import re\n",
        "from collections import Counter\n",
        "from string import punctuation\n",
        "from tweepy import OAuthHandler\n",
        "import json\n",
        "\n",
        "# text manipulation \n",
        "import nltk \n",
        "from nltk.corpus import stopwords\n",
        "from nltk.tokenize import TweetTokenizer\n",
        "from nltk.stem.wordnet import WordNetLemmatizer\n",
        "from nltk.stem.porter import PorterStemmer\n",
        "from nltk.stem.porter import * \n",
        "\n",
        "# plots\n",
        "from wordcloud import WordCloud\n",
        "import plotly\n",
        "import chart_studio.plotly as py\n",
        "import plotly.graph_objs as go \n",
        "from plotly.offline import download_plotlyjs, init_notebook_mode, plot, iplot\n",
        "import cufflinks as cf\n",
        "cf.go_offline()\n",
        "\n",
        "# Feature Engineering\n",
        "from vaderSentiment.vaderSentiment import SentimentIntensityAnalyzer\n",
        "\n",
        "# Machine Learning\n",
        "from sklearn.pipeline import Pipeline\n",
        "from sklearn.pipeline import FeatureUnion\n",
        "from sklearn.model_selection import train_test_split\n",
        "from sklearn.metrics import classification_report, confusion_matrix, accuracy_score\n",
        "from sklearn.model_selection import KFold, cross_val_score\n",
        "from sklearn.ensemble import RandomForestClassifier\n",
        "from sklearn.naive_bayes import MultinomialNB\n",
        "from sklearn.svm import LinearSVC\n",
        "from sklearn.model_selection import GridSearchCV\n",
        "from sklearn.externals import joblib\n",
        "from sklearn.base import BaseEstimator, TransformerMixin\n",
        "from sklearn.feature_extraction.text import TfidfVectorizer, HashingVectorizer, CountVectorizer\n",
        "from sklearn.preprocessing import MinMaxScaler\n",
        "from sklearn.preprocessing import LabelEncoder\n",
        "\n",
        "# Deep Learning\n",
        "import torch\n",
        "from keras.preprocessing.text import Tokenizer\n",
        "from keras.preprocessing.sequence import pad_sequences\n",
        "from keras.utils.np_utils import to_categorical\n",
        "from keras.models import Sequential\n",
        "from keras import regularizers\n",
        "from keras.layers import Dense, Embedding, LSTM\n",
        "\n",
        "# For geoplots\n",
        "from IPython.display import IFrame\n",
        "import folium\n",
        "from folium import plugins\n",
        "from folium.plugins import MarkerCluster, FastMarkerCluster, HeatMapWithTime\n",
        "import networkx\n",
        "\n",
        "# hide warnings\n",
        "import warnings\n",
        "warnings.filterwarnings(\"ignore\")\n",
        "\n",
        "\n",
        "# set plot preferences\n",
        "plt.style.use(style='ggplot')\n",
        "plt.rcParams['figure.figsize'] = (10, 6)\n",
        "pd.set_option(\"display.max_colwidth\", 200) \n",
        "\n",
        "print('Libraries imported')\n",
        "%matplotlib inline"
      ],
      "execution_count": 0,
      "outputs": []
    },
    {
      "cell_type": "markdown",
      "metadata": {
        "id": "fLAtJ8IhpOn3",
        "colab_type": "text"
      },
      "source": [
        "## 5. Modeling \n",
        "\n",
        "We are now done with all the pre-modeling stages required to get the data in the proper form and shape. We will be building models on the datasets with the new feature sets.\n",
        "\n",
        "We will use the following algorithms to build models:\n",
        "\n",
        "- Naive Bayes Classifier\n",
        "- Support Vector Machine\n"
      ]
    },
    {
      "cell_type": "code",
      "metadata": {
        "id": "qqysEcEkV-18",
        "colab_type": "code",
        "colab": {}
      },
      "source": [
        "# Load back in\n",
        "train_prep = pd.read_csv('/content/drive/My Drive/Twitter_Project/feat_eng_train_data.csv')"
      ],
      "execution_count": 0,
      "outputs": []
    },
    {
      "cell_type": "markdown",
      "metadata": {
        "id": "90F3tCGhboeD",
        "colab_type": "text"
      },
      "source": [
        "### 5.1 Preparing data for modeling\n",
        "\n",
        "We'll first double check for missings, extract features from the train dataset and finally, split the data into train and test sets for modeling."
      ]
    },
    {
      "cell_type": "code",
      "metadata": {
        "id": "WF79pshTOHGY",
        "colab_type": "code",
        "outputId": "dea0defa-2a92-407c-aab2-f67e3a334c71",
        "colab": {
          "base_uri": "https://localhost:8080/",
          "height": 35
        }
      },
      "source": [
        "# Double hecking for missing values\n",
        "train_prep.isnull().values.any()"
      ],
      "execution_count": 0,
      "outputs": [
        {
          "output_type": "execute_result",
          "data": {
            "text/plain": [
              "False"
            ]
          },
          "metadata": {
            "tags": []
          },
          "execution_count": 6
        }
      ]
    },
    {
      "cell_type": "code",
      "metadata": {
        "id": "ANm6X0eNOtpT",
        "colab_type": "code",
        "outputId": "62662660-1453-4355-d429-fb392d45d737",
        "colab": {
          "base_uri": "https://localhost:8080/",
          "height": 35
        }
      },
      "source": [
        "train_prep.shape"
      ],
      "execution_count": 0,
      "outputs": [
        {
          "output_type": "execute_result",
          "data": {
            "text/plain": [
              "(47824, 14)"
            ]
          },
          "metadata": {
            "tags": []
          },
          "execution_count": 7
        }
      ]
    },
    {
      "cell_type": "code",
      "metadata": {
        "id": "o4koKF4WZLuO",
        "colab_type": "code",
        "outputId": "13fbedb7-3cd3-44e8-8b0e-0f89c099281b",
        "colab": {
          "base_uri": "https://localhost:8080/",
          "height": 279
        }
      },
      "source": [
        "train_prep.head(3)"
      ],
      "execution_count": 0,
      "outputs": [
        {
          "output_type": "execute_result",
          "data": {
            "text/html": [
              "<div>\n",
              "<style scoped>\n",
              "    .dataframe tbody tr th:only-of-type {\n",
              "        vertical-align: middle;\n",
              "    }\n",
              "\n",
              "    .dataframe tbody tr th {\n",
              "        vertical-align: top;\n",
              "    }\n",
              "\n",
              "    .dataframe thead th {\n",
              "        text-align: right;\n",
              "    }\n",
              "</style>\n",
              "<table border=\"1\" class=\"dataframe\">\n",
              "  <thead>\n",
              "    <tr style=\"text-align: right;\">\n",
              "      <th></th>\n",
              "      <th>label</th>\n",
              "      <th>text</th>\n",
              "      <th>word count</th>\n",
              "      <th>tidy_tweet</th>\n",
              "      <th>tokens</th>\n",
              "      <th>neg_scores</th>\n",
              "      <th>neu_scores</th>\n",
              "      <th>pos_scores</th>\n",
              "      <th>compound_scores</th>\n",
              "      <th>NOUN</th>\n",
              "      <th>PRON</th>\n",
              "      <th>VERB</th>\n",
              "      <th>ADJ</th>\n",
              "      <th>ADV</th>\n",
              "    </tr>\n",
              "  </thead>\n",
              "  <tbody>\n",
              "    <tr>\n",
              "      <th>0</th>\n",
              "      <td>4.0</td>\n",
              "      <td>is it LOVE or BREAD???</td>\n",
              "      <td>5.0</td>\n",
              "      <td>love bread</td>\n",
              "      <td>['love', 'bread']</td>\n",
              "      <td>0.000</td>\n",
              "      <td>0.192</td>\n",
              "      <td>0.808</td>\n",
              "      <td>0.6369</td>\n",
              "      <td>1.0</td>\n",
              "      <td>0.0</td>\n",
              "      <td>0.0</td>\n",
              "      <td>0.0</td>\n",
              "      <td>0.0</td>\n",
              "    </tr>\n",
              "    <tr>\n",
              "      <th>1</th>\n",
              "      <td>0.0</td>\n",
              "      <td>now doing the weights again...urgh  my poor laptop is burning up in this summer evening's heat</td>\n",
              "      <td>16.0</td>\n",
              "      <td>weight urgh poor laptop burn summer even heat</td>\n",
              "      <td>['weights', 'urgh', 'poor', 'laptop', 'burning', 'summer', 'evening', 'heat']</td>\n",
              "      <td>0.307</td>\n",
              "      <td>0.693</td>\n",
              "      <td>0.000</td>\n",
              "      <td>-0.4767</td>\n",
              "      <td>1.0</td>\n",
              "      <td>0.0</td>\n",
              "      <td>0.0</td>\n",
              "      <td>1.0</td>\n",
              "      <td>1.0</td>\n",
              "    </tr>\n",
              "    <tr>\n",
              "      <th>2</th>\n",
              "      <td>4.0</td>\n",
              "      <td>just done my weekly weigh in. on target  woohoo</td>\n",
              "      <td>9.0</td>\n",
              "      <td>done weekli weigh target woohoo</td>\n",
              "      <td>['done', 'weekly', 'weigh', 'target', 'woohoo']</td>\n",
              "      <td>0.000</td>\n",
              "      <td>0.548</td>\n",
              "      <td>0.452</td>\n",
              "      <td>0.5106</td>\n",
              "      <td>1.0</td>\n",
              "      <td>0.0</td>\n",
              "      <td>1.0</td>\n",
              "      <td>1.0</td>\n",
              "      <td>0.0</td>\n",
              "    </tr>\n",
              "  </tbody>\n",
              "</table>\n",
              "</div>"
            ],
            "text/plain": [
              "   label  ...  ADV\n",
              "0    4.0  ...  0.0\n",
              "1    0.0  ...  1.0\n",
              "2    4.0  ...  0.0\n",
              "\n",
              "[3 rows x 14 columns]"
            ]
          },
          "metadata": {
            "tags": []
          },
          "execution_count": 8
        }
      ]
    },
    {
      "cell_type": "code",
      "metadata": {
        "id": "qQa10DGUZdUH",
        "colab_type": "code",
        "outputId": "fcbf8a2c-55b7-4c57-c0b8-c46ec9066fe2",
        "colab": {
          "base_uri": "https://localhost:8080/",
          "height": 35
        }
      },
      "source": [
        "# Extracting Features\n",
        "features = ['tidy_tweet', 'neu_scores', 'neg_scores', 'compound_scores', 'pos_scores']\n",
        "label = ['label']\n",
        "\n",
        "# Saving features and label data in X and y for train-test split\n",
        "X = train_prep[[col for col in train_prep.columns if col in features]]\n",
        "y = train_prep[label]\n",
        "\n",
        "X.shape, y.shape"
      ],
      "execution_count": 0,
      "outputs": [
        {
          "output_type": "execute_result",
          "data": {
            "text/plain": [
              "((47824, 5), (47824, 1))"
            ]
          },
          "metadata": {
            "tags": []
          },
          "execution_count": 7
        }
      ]
    },
    {
      "cell_type": "code",
      "metadata": {
        "id": "ZlOgsaulbXM2",
        "colab_type": "code",
        "colab": {}
      },
      "source": [
        "# splitting data into training and validation set \n",
        "X_train, X_test, y_train, y_test = train_test_split(X, y, test_size=0.30, random_state=0)\n",
        "\n",
        "print(\"Shapes are {} and {}\".format(X_train.shape, X_test.shape))"
      ],
      "execution_count": 0,
      "outputs": []
    },
    {
      "cell_type": "markdown",
      "metadata": {
        "id": "V4hZEC9bcxbq",
        "colab_type": "text"
      },
      "source": [
        "### 5.2 Baseline\n",
        "\n",
        "We need a basis for comparison of results. When we start collecting results from our models, the baseline result will tell us if our models are adding value. \n",
        "\n",
        "For classification problems, the one rule is to predict the class value that is most common in the training dataset (Zero Rule Algorithm)."
      ]
    },
    {
      "cell_type": "code",
      "metadata": {
        "id": "tcPRlfUAeD_a",
        "colab_type": "code",
        "outputId": "f48d96d6-58a6-4c91-be13-c44b3c971416",
        "colab": {
          "base_uri": "https://localhost:8080/",
          "height": 69
        }
      },
      "source": [
        "# Where 4 = positive and 0 = negative\n",
        "\n",
        "pd.Series(y_train.values.ravel()).value_counts(normalize=True)\n",
        "pd.Series(y_train.values.ravel()).value_counts(normalize=True)"
      ],
      "execution_count": 0,
      "outputs": [
        {
          "output_type": "execute_result",
          "data": {
            "text/plain": [
              "0.0    0.504541\n",
              "4.0    0.495459\n",
              "dtype: float64"
            ]
          },
          "metadata": {
            "tags": []
          },
          "execution_count": 12
        }
      ]
    },
    {
      "cell_type": "markdown",
      "metadata": {
        "id": "aB_5h1l-iIke",
        "colab_type": "text"
      },
      "source": [
        "Our training dataset has 50.45% of instances of class `0.0` or negative and 49.54% of instances of class `4.0` or positive. Which means, it will predict *positive* and achieve a baseline accuracy of 50.45%"
      ]
    },
    {
      "cell_type": "markdown",
      "metadata": {
        "id": "z6MqvPfSihFP",
        "colab_type": "text"
      },
      "source": [
        "### 5.3 Supervised Machine Learning Models\n",
        "\n",
        "For this classification project, we'll be using two algorightms: **Naive Bayes Classifier** and **Support Vector Machine Classifier**. They are arguably two of the most used techniques for any classification task.\n",
        "\n",
        "For the source code of the helper functions and pipelines, check [this notebook](https://github.com/vtoliveira/advanced-data-science-capstone/blob/master/Model%20Definition%20and%20Training%20(Classical%20Algorithms)%20-%20Twitter%20US%20Airline%20Sentiment.ipynb)."
      ]
    },
    {
      "cell_type": "code",
      "metadata": {
        "id": "QQeEFOK3fb24",
        "colab_type": "code",
        "colab": {}
      },
      "source": [
        "# Helper functions\n",
        "\n",
        "class TextSelector(BaseEstimator, TransformerMixin):\n",
        "    \"\"\"\n",
        "    Transformer to select a single column from the data frame to perform additional transformations on\n",
        "    Use on text columns in the data\n",
        "    \"\"\"\n",
        "    def __init__(self, key):\n",
        "        self.key = key\n",
        "\n",
        "    def fit(self, X, y=None):\n",
        "        return self\n",
        "\n",
        "    def transform(self, X):\n",
        "        return X[self.key]\n",
        "    \n",
        "class NumberSelector(BaseEstimator, TransformerMixin):\n",
        "    \"\"\"\n",
        "    Transformer to select a single column from the data frame to perform additional transformations on\n",
        "    Use on numeric columns in the data\n",
        "    \"\"\"\n",
        "    def __init__(self, key):\n",
        "        self.key = key\n",
        "\n",
        "    def fit(self, X, y=None):\n",
        "        return self\n",
        "\n",
        "    def transform(self, X):\n",
        "        return X[[self.key]]"
      ],
      "execution_count": 0,
      "outputs": []
    },
    {
      "cell_type": "code",
      "metadata": {
        "id": "cjPoNZpMRfK6",
        "colab_type": "code",
        "colab": {}
      },
      "source": [
        "# Pipeline to convert tweets to a matrix of TF-IDF features.\n",
        "tfidf = Pipeline([\n",
        "                ('selector', TextSelector(key='tidy_tweet')),\n",
        "                ('tfidf', TfidfVectorizer())\n",
        "            ])\n",
        "\n",
        "# Pipeline to convert tweets to a matrix of token counts\n",
        "countvect = Pipeline([\n",
        "                ('selector', TextSelector(key='tidy_tweet')),\n",
        "                ('countvect', CountVectorizer())\n",
        "            ])"
      ],
      "execution_count": 0,
      "outputs": []
    },
    {
      "cell_type": "code",
      "metadata": {
        "id": "0WNt287kjzvJ",
        "colab_type": "code",
        "colab": {}
      },
      "source": [
        "# Applying tfidf anf countvec to features\n",
        "\n",
        "neu_scores =  Pipeline([\n",
        "                ('selector', NumberSelector(key='neu_scores')),\n",
        "                ('minmax', MinMaxScaler())\n",
        "            ])\n",
        "neg_scores =  Pipeline([\n",
        "                ('selector', NumberSelector(key='neg_scores')),\n",
        "                ('minmax', MinMaxScaler())\n",
        "            ])\n",
        "pos_scores =  Pipeline([\n",
        "                ('selector', NumberSelector(key='pos_scores')),\n",
        "                ('minmax', MinMaxScaler())\n",
        "            ])\n",
        "\n",
        "compound_scores =  Pipeline([\n",
        "                ('selector', NumberSelector(key='compound_scores')),\n",
        "                ('minmax', MinMaxScaler())\n",
        "            ])"
      ],
      "execution_count": 0,
      "outputs": []
    },
    {
      "cell_type": "code",
      "metadata": {
        "id": "dQOFf5DqXN6K",
        "colab_type": "code",
        "colab": {}
      },
      "source": [
        "# defining different sets of text processors\n",
        "def features_union(textProcessor):\n",
        "    return FeatureUnion([('text', textProcessor),\n",
        "                      ('neu_scores', neu_scores),\n",
        "                      ('neg_scores', neg_scores),\n",
        "                      ('pos_scores', pos_scores),\n",
        "                      ('compound_scores', compound_scores)])"
      ],
      "execution_count": 0,
      "outputs": []
    },
    {
      "cell_type": "code",
      "metadata": {
        "id": "5WeQWhLzU_t6",
        "colab_type": "code",
        "outputId": "4d1ea99c-0c72-4f6c-a69f-04eb722268d9",
        "colab": {
          "base_uri": "https://localhost:8080/",
          "height": 35
        }
      },
      "source": [
        "# Normalise labels\n",
        "le = LabelEncoder().fit(y_train.values.ravel())\n",
        "\n",
        "y_train = le.transform(y_train.values.ravel())\n",
        "y_test = le.transform(y_test.values.ravel())\n",
        "\n",
        "X_train.shape, X_test.shape"
      ],
      "execution_count": 0,
      "outputs": [
        {
          "output_type": "execute_result",
          "data": {
            "text/plain": [
              "((33476, 5), (14348, 5))"
            ]
          },
          "metadata": {
            "tags": []
          },
          "execution_count": 9
        }
      ]
    },
    {
      "cell_type": "markdown",
      "metadata": {
        "id": "6--1jZ9golSX",
        "colab_type": "text"
      },
      "source": [
        "### 5.3.1 Naive Bayes Classifier  "
      ]
    },
    {
      "cell_type": "code",
      "metadata": {
        "id": "El1ahg6DbGvm",
        "colab_type": "code",
        "outputId": "e8ee642d-543a-4bcc-cc19-bcf4222bef1c",
        "colab": {
          "base_uri": "https://localhost:8080/",
          "height": 35
        }
      },
      "source": [
        "# instantiate classifier\n",
        "clf = MultinomialNB()\n",
        "\n",
        "# combine features\n",
        "features_count = features_union(countvect)\n",
        "\n",
        "# define pipeline object \n",
        "nb_pipeline = Pipeline([('features', features_count),\n",
        "                       ('nb', clf)])\n",
        "\n",
        "# Fit classifier\n",
        "nb_pipeline.fit(X_train, y_train)\n",
        "\n",
        "# score\n",
        "nb_pipeline.score(X_test, y_test)"
      ],
      "execution_count": 0,
      "outputs": [
        {
          "output_type": "execute_result",
          "data": {
            "text/plain": [
              "0.7354335098968497"
            ]
          },
          "metadata": {
            "tags": []
          },
          "execution_count": 18
        }
      ]
    },
    {
      "cell_type": "markdown",
      "metadata": {
        "id": "-HvjG5kdtIsC",
        "colab_type": "text"
      },
      "source": [
        "### 5.3.2 Support Vector Machine Classifier"
      ]
    },
    {
      "cell_type": "code",
      "metadata": {
        "id": "9lKTJiLGtPt3",
        "colab_type": "code",
        "outputId": "5e2162bd-140b-4a0f-f3fe-47562c4b9c30",
        "colab": {
          "base_uri": "https://localhost:8080/",
          "height": 35
        }
      },
      "source": [
        "# instantiate classifier\n",
        "svm = LinearSVC()\n",
        "\n",
        "#  combine features\n",
        "features_tfidf = features_union(tfidf)\n",
        "\n",
        "# define pipeline object\n",
        "svm_pipeline = Pipeline([('features', features_tfidf),\n",
        "                       ('svm', svm)])\n",
        "\n",
        "# Fit classifier\n",
        "svm_pipeline.fit(X_train, y_train)\n",
        "\n",
        "# score\n",
        "svm_pipeline.score(X_test, y_test)"
      ],
      "execution_count": 0,
      "outputs": [
        {
          "output_type": "execute_result",
          "data": {
            "text/plain": [
              "0.7303456927794815"
            ]
          },
          "metadata": {
            "tags": []
          },
          "execution_count": 19
        }
      ]
    },
    {
      "cell_type": "markdown",
      "metadata": {
        "id": "vewdYma7yAZj",
        "colab_type": "text"
      },
      "source": [
        "### 5.3.3 Cross-Validation\n",
        "\n",
        "For each model, we will now do a k-fold cross-validation using Exhaustive Grid Search. Cross-validation using Scikit Learn's Grid Search."
      ]
    },
    {
      "cell_type": "code",
      "metadata": {
        "id": "MBC-31xuys2Z",
        "colab_type": "code",
        "outputId": "2f82f205-d0d3-4e04-96da-49219a61052c",
        "colab": {
          "base_uri": "https://localhost:8080/",
          "height": 35
        }
      },
      "source": [
        "# Naive Bayes Classifier\n",
        "\n",
        "# combine features\n",
        "features_tfidf = features_union(tfidf)\n",
        "\n",
        "# instantiate pipeline object\n",
        "nb_pipeline = Pipeline([('feats', features_tfidf),  ('clf', MultinomialNB())])\n",
        "\n",
        "# parameter grid (3x3x2x2x3x3x2) combinations\n",
        "parameters = {\n",
        "    'feats__text__tfidf__max_df': (0.5, 0.75, 1.0),\n",
        "    'feats__text__tfidf__ngram_range': ((1, 1), (1, 2), (2, 2)), \n",
        "    'feats__text__tfidf__use_idf': (False, True),\n",
        "    'feats__text__tfidf__binary':(False, True),\n",
        "    'feats__text__tfidf__binary':('l1', 'l2', None),\n",
        "    'clf__alpha': (1.0, 5.0, 10.0),\n",
        "    'clf__fit_prior': (True, False),     \n",
        "}\n",
        "\n",
        "# instantiate GridSearchCV object with pipeline and parameters with 3-folds cross-validation\n",
        "nb_grid = GridSearchCV(nb_pipeline, parameters, cv=3) # this takes a while :/\n",
        "\n",
        "# start time \n",
        "nb_start = time.time()\n",
        "\n",
        "# Fit \n",
        "nb_grid.fit(X_train, y_train)\n",
        "\n",
        "# end time \n",
        "svm_end = time.time()\n",
        "print(f\"Time taken to run: {round((nb_end - nb_start)/60,1)} minutes\")\n",
        "\n",
        "# Check score\n",
        "nb_grid.score(X_test, y_test)\n"
      ],
      "execution_count": 0,
      "outputs": [
        {
          "output_type": "execute_result",
          "data": {
            "text/plain": [
              "0.7428909952606635"
            ]
          },
          "metadata": {
            "tags": []
          },
          "execution_count": 21
        }
      ]
    },
    {
      "cell_type": "code",
      "metadata": {
        "id": "45BG5j0q1F0K",
        "colab_type": "code",
        "outputId": "2119ddb7-63b7-48b1-8788-fe9a5e300210",
        "colab": {
          "base_uri": "https://localhost:8080/",
          "height": 525
        }
      },
      "source": [
        "print('Best params: {}'.format(nb_grid.best_params_))\n",
        "nb_cv_results = pd.DataFrame(nb_grid.cv_results_)\n",
        "nb_cv_results.head(3)"
      ],
      "execution_count": 0,
      "outputs": [
        {
          "output_type": "stream",
          "text": [
            "Best params: {'clf__alpha': 1.0, 'clf__fit_prior': False, 'feats__text__tfidf__binary': 'l1', 'feats__text__tfidf__max_df': 0.5, 'feats__text__tfidf__ngram_range': (1, 2), 'feats__text__tfidf__use_idf': False}\n"
          ],
          "name": "stdout"
        },
        {
          "output_type": "execute_result",
          "data": {
            "text/html": [
              "<div>\n",
              "<style scoped>\n",
              "    .dataframe tbody tr th:only-of-type {\n",
              "        vertical-align: middle;\n",
              "    }\n",
              "\n",
              "    .dataframe tbody tr th {\n",
              "        vertical-align: top;\n",
              "    }\n",
              "\n",
              "    .dataframe thead th {\n",
              "        text-align: right;\n",
              "    }\n",
              "</style>\n",
              "<table border=\"1\" class=\"dataframe\">\n",
              "  <thead>\n",
              "    <tr style=\"text-align: right;\">\n",
              "      <th></th>\n",
              "      <th>mean_fit_time</th>\n",
              "      <th>std_fit_time</th>\n",
              "      <th>mean_score_time</th>\n",
              "      <th>std_score_time</th>\n",
              "      <th>param_clf__alpha</th>\n",
              "      <th>param_clf__fit_prior</th>\n",
              "      <th>param_feats__text__tfidf__binary</th>\n",
              "      <th>param_feats__text__tfidf__max_df</th>\n",
              "      <th>param_feats__text__tfidf__ngram_range</th>\n",
              "      <th>param_feats__text__tfidf__use_idf</th>\n",
              "      <th>params</th>\n",
              "      <th>split0_test_score</th>\n",
              "      <th>split1_test_score</th>\n",
              "      <th>split2_test_score</th>\n",
              "      <th>mean_test_score</th>\n",
              "      <th>std_test_score</th>\n",
              "      <th>rank_test_score</th>\n",
              "    </tr>\n",
              "  </thead>\n",
              "  <tbody>\n",
              "    <tr>\n",
              "      <th>0</th>\n",
              "      <td>0.229720</td>\n",
              "      <td>0.006067</td>\n",
              "      <td>0.100113</td>\n",
              "      <td>0.001856</td>\n",
              "      <td>1</td>\n",
              "      <td>True</td>\n",
              "      <td>l1</td>\n",
              "      <td>0.5</td>\n",
              "      <td>(1, 1)</td>\n",
              "      <td>False</td>\n",
              "      <td>{'clf__alpha': 1.0, 'clf__fit_prior': True, 'feats__text__tfidf__binary': 'l1', 'feats__text__tfidf__max_df': 0.5, 'feats__text__tfidf__ngram_range': (1, 1), 'feats__text__tfidf__use_idf': False}</td>\n",
              "      <td>0.738059</td>\n",
              "      <td>0.740299</td>\n",
              "      <td>0.739918</td>\n",
              "      <td>0.739425</td>\n",
              "      <td>0.000979</td>\n",
              "      <td>19</td>\n",
              "    </tr>\n",
              "    <tr>\n",
              "      <th>1</th>\n",
              "      <td>0.224705</td>\n",
              "      <td>0.000837</td>\n",
              "      <td>0.102581</td>\n",
              "      <td>0.000896</td>\n",
              "      <td>1</td>\n",
              "      <td>True</td>\n",
              "      <td>l1</td>\n",
              "      <td>0.5</td>\n",
              "      <td>(1, 1)</td>\n",
              "      <td>True</td>\n",
              "      <td>{'clf__alpha': 1.0, 'clf__fit_prior': True, 'feats__text__tfidf__binary': 'l1', 'feats__text__tfidf__max_df': 0.5, 'feats__text__tfidf__ngram_range': (1, 1), 'feats__text__tfidf__use_idf': True}</td>\n",
              "      <td>0.730711</td>\n",
              "      <td>0.733847</td>\n",
              "      <td>0.731672</td>\n",
              "      <td>0.732077</td>\n",
              "      <td>0.001312</td>\n",
              "      <td>175</td>\n",
              "    </tr>\n",
              "    <tr>\n",
              "      <th>2</th>\n",
              "      <td>0.629810</td>\n",
              "      <td>0.016253</td>\n",
              "      <td>0.168072</td>\n",
              "      <td>0.002855</td>\n",
              "      <td>1</td>\n",
              "      <td>True</td>\n",
              "      <td>l1</td>\n",
              "      <td>0.5</td>\n",
              "      <td>(1, 2)</td>\n",
              "      <td>False</td>\n",
              "      <td>{'clf__alpha': 1.0, 'clf__fit_prior': True, 'feats__text__tfidf__binary': 'l1', 'feats__text__tfidf__max_df': 0.5, 'feats__text__tfidf__ngram_range': (1, 2), 'feats__text__tfidf__use_idf': False}</td>\n",
              "      <td>0.741016</td>\n",
              "      <td>0.745676</td>\n",
              "      <td>0.744130</td>\n",
              "      <td>0.743607</td>\n",
              "      <td>0.001938</td>\n",
              "      <td>10</td>\n",
              "    </tr>\n",
              "  </tbody>\n",
              "</table>\n",
              "</div>"
            ],
            "text/plain": [
              "   mean_fit_time  std_fit_time  ...  std_test_score  rank_test_score\n",
              "0       0.229720      0.006067  ...        0.000979               19\n",
              "1       0.224705      0.000837  ...        0.001312              175\n",
              "2       0.629810      0.016253  ...        0.001938               10\n",
              "\n",
              "[3 rows x 17 columns]"
            ]
          },
          "metadata": {
            "tags": []
          },
          "execution_count": 23
        }
      ]
    },
    {
      "cell_type": "code",
      "metadata": {
        "id": "UmfnCDgFbaaa",
        "colab_type": "code",
        "outputId": "64e9d308-2550-4681-d779-6d8790c4a95f",
        "colab": {
          "base_uri": "https://localhost:8080/",
          "height": 35
        }
      },
      "source": [
        "# Support Vector Classifier\n",
        "\n",
        "# combine features\n",
        "features_count = features_union(tfidf)\n",
        "\n",
        "# instantiate pipeline\n",
        "svm_count_pipeline = Pipeline([('feats', features_count),  ('clf', LinearSVC())])\n",
        "\n",
        "# parameter grid (3x3x2x3x7x2) combinations\n",
        "parameters = {\n",
        "    'feats__text__tfidf__max_df': (0.5, 0.75, 1.0),\n",
        "    'feats__text__tfidf__ngram_range': ((1, 1), (1, 2), (2, 2)), \n",
        "    'feats__text__tfidf__use_idf': (False, True),\n",
        "    'clf__loss': ('hinge', 'squared_hinge'),\n",
        "    'clf__C': (0.1, 0.5, 0.6, 1, 4, 5, 10, 100),\n",
        "    'clf__class_weight': (None, 'balanced')                                    \n",
        "}\n",
        "\n",
        "# instantiate GridSearchCV object with pipeline and parameters with 3-folds cross-validation\n",
        "svm_grid = GridSearchCV(svm_count_pipeline, parameters, cv=3)\n",
        "\n",
        "# start time \n",
        "svm_start = time.time()\n",
        "\n",
        "# fit\n",
        "svm_grid.fit(X_train, y_train)\n",
        "\n",
        "# end time \n",
        "svm_end = time.time()\n",
        "print(f\"Time taken to run: {round((svm_end - svm_start)/60,1)} minutes\")\n",
        "\n",
        "# score\n",
        "svm_grid.score(X_test, y_test)"
      ],
      "execution_count": 0,
      "outputs": [
        {
          "output_type": "stream",
          "text": [
            "Time taken to run: 43.0 minutes\n"
          ],
          "name": "stdout"
        }
      ]
    },
    {
      "cell_type": "code",
      "metadata": {
        "id": "gMOtr-ab9jby",
        "colab_type": "code",
        "outputId": "6d885f26-2184-4dd9-c721-af799ec1a4a4",
        "colab": {
          "base_uri": "https://localhost:8080/",
          "height": 35
        }
      },
      "source": [
        "# score\n",
        "svm_grid.score(X_test, y_test)\n"
      ],
      "execution_count": 0,
      "outputs": [
        {
          "output_type": "execute_result",
          "data": {
            "text/plain": [
              "0.7513242263730137"
            ]
          },
          "metadata": {
            "tags": []
          },
          "execution_count": 28
        }
      ]
    },
    {
      "cell_type": "code",
      "metadata": {
        "id": "sd_XiP2O1EsX",
        "colab_type": "code",
        "outputId": "a5dd80c4-3b50-4398-d4df-8bc0549b0349",
        "colab": {
          "base_uri": "https://localhost:8080/",
          "height": 473
        }
      },
      "source": [
        "print('Best params: {}'.format(svm_grid.best_params_))\n",
        "svm_cv_results = pd.DataFrame(svm_grid.cv_results_)\n",
        "svm_cv_results.head(3)"
      ],
      "execution_count": 0,
      "outputs": [
        {
          "output_type": "stream",
          "text": [
            "Best params: {'clf__C': 0.6, 'clf__class_weight': 'balanced', 'clf__loss': 'hinge', 'feats__text__tfidf__max_df': 0.5, 'feats__text__tfidf__ngram_range': (1, 2), 'feats__text__tfidf__use_idf': True}\n"
          ],
          "name": "stdout"
        },
        {
          "output_type": "execute_result",
          "data": {
            "text/html": [
              "<div>\n",
              "<style scoped>\n",
              "    .dataframe tbody tr th:only-of-type {\n",
              "        vertical-align: middle;\n",
              "    }\n",
              "\n",
              "    .dataframe tbody tr th {\n",
              "        vertical-align: top;\n",
              "    }\n",
              "\n",
              "    .dataframe thead th {\n",
              "        text-align: right;\n",
              "    }\n",
              "</style>\n",
              "<table border=\"1\" class=\"dataframe\">\n",
              "  <thead>\n",
              "    <tr style=\"text-align: right;\">\n",
              "      <th></th>\n",
              "      <th>mean_fit_time</th>\n",
              "      <th>std_fit_time</th>\n",
              "      <th>mean_score_time</th>\n",
              "      <th>std_score_time</th>\n",
              "      <th>param_clf__C</th>\n",
              "      <th>param_clf__class_weight</th>\n",
              "      <th>param_clf__loss</th>\n",
              "      <th>param_feats__text__tfidf__max_df</th>\n",
              "      <th>param_feats__text__tfidf__ngram_range</th>\n",
              "      <th>param_feats__text__tfidf__use_idf</th>\n",
              "      <th>params</th>\n",
              "      <th>split0_test_score</th>\n",
              "      <th>split1_test_score</th>\n",
              "      <th>split2_test_score</th>\n",
              "      <th>mean_test_score</th>\n",
              "      <th>std_test_score</th>\n",
              "      <th>rank_test_score</th>\n",
              "    </tr>\n",
              "  </thead>\n",
              "  <tbody>\n",
              "    <tr>\n",
              "      <th>0</th>\n",
              "      <td>0.302991</td>\n",
              "      <td>0.041557</td>\n",
              "      <td>0.105896</td>\n",
              "      <td>0.001908</td>\n",
              "      <td>0.1</td>\n",
              "      <td>None</td>\n",
              "      <td>hinge</td>\n",
              "      <td>0.5</td>\n",
              "      <td>(1, 1)</td>\n",
              "      <td>False</td>\n",
              "      <td>{'clf__C': 0.1, 'clf__class_weight': None, 'clf__loss': 'hinge', 'feats__text__tfidf__max_df': 0.5, 'feats__text__tfidf__ngram_range': (1, 1), 'feats__text__tfidf__use_idf': False}</td>\n",
              "      <td>0.723990</td>\n",
              "      <td>0.723990</td>\n",
              "      <td>0.723875</td>\n",
              "      <td>0.723951</td>\n",
              "      <td>0.000054</td>\n",
              "      <td>217</td>\n",
              "    </tr>\n",
              "    <tr>\n",
              "      <th>1</th>\n",
              "      <td>0.254545</td>\n",
              "      <td>0.005855</td>\n",
              "      <td>0.103313</td>\n",
              "      <td>0.000916</td>\n",
              "      <td>0.1</td>\n",
              "      <td>None</td>\n",
              "      <td>hinge</td>\n",
              "      <td>0.5</td>\n",
              "      <td>(1, 1)</td>\n",
              "      <td>True</td>\n",
              "      <td>{'clf__C': 0.1, 'clf__class_weight': None, 'clf__loss': 'hinge', 'feats__text__tfidf__max_df': 0.5, 'feats__text__tfidf__ngram_range': (1, 1), 'feats__text__tfidf__use_idf': True}</td>\n",
              "      <td>0.721928</td>\n",
              "      <td>0.722377</td>\n",
              "      <td>0.723875</td>\n",
              "      <td>0.722727</td>\n",
              "      <td>0.000832</td>\n",
              "      <td>238</td>\n",
              "    </tr>\n",
              "    <tr>\n",
              "      <th>2</th>\n",
              "      <td>0.669138</td>\n",
              "      <td>0.019907</td>\n",
              "      <td>0.183208</td>\n",
              "      <td>0.008977</td>\n",
              "      <td>0.1</td>\n",
              "      <td>None</td>\n",
              "      <td>hinge</td>\n",
              "      <td>0.5</td>\n",
              "      <td>(1, 2)</td>\n",
              "      <td>False</td>\n",
              "      <td>{'clf__C': 0.1, 'clf__class_weight': None, 'clf__loss': 'hinge', 'feats__text__tfidf__max_df': 0.5, 'feats__text__tfidf__ngram_range': (1, 2), 'feats__text__tfidf__use_idf': False}</td>\n",
              "      <td>0.720943</td>\n",
              "      <td>0.719957</td>\n",
              "      <td>0.722800</td>\n",
              "      <td>0.721233</td>\n",
              "      <td>0.001179</td>\n",
              "      <td>250</td>\n",
              "    </tr>\n",
              "  </tbody>\n",
              "</table>\n",
              "</div>"
            ],
            "text/plain": [
              "   mean_fit_time  std_fit_time  ...  std_test_score  rank_test_score\n",
              "0       0.302991      0.041557  ...        0.000054              217\n",
              "1       0.254545      0.005855  ...        0.000832              238\n",
              "2       0.669138      0.019907  ...        0.001179              250\n",
              "\n",
              "[3 rows x 17 columns]"
            ]
          },
          "metadata": {
            "tags": []
          },
          "execution_count": 26
        }
      ]
    },
    {
      "cell_type": "markdown",
      "metadata": {
        "id": "ZiExWBn5hEf-",
        "colab_type": "text"
      },
      "source": [
        "We passed the combined parameters to the GridsearchCV object for each classifier and 10 folds for the cross validation which means that for every parameter combination, the grid ran 10 different iterations with a different test set every time.\n",
        "\n",
        "After trying out the different model parameter combinations, the GridsearchCV returns the best performing model per classifier.\n",
        "\n",
        "We save the models below to the working directory for evaluation. This is also good for when we just want to retrieve the trained model in the future without retraining it and use it for classification of new text.\n",
        " \n",
        "Also a necessary step if we plan to deploy the model."
      ]
    },
    {
      "cell_type": "code",
      "metadata": {
        "id": "didvyNT4hV9s",
        "colab_type": "code",
        "outputId": "7a9e97dc-df43-4b0f-8326-3a58ae3b7461",
        "colab": {
          "base_uri": "https://localhost:8080/",
          "height": 52
        }
      },
      "source": [
        "# save best model per each classifier\n",
        "joblib.dump(nb_grid, \"/content/drive/My Drive/Twitter_Project/twitter_sentiment_naivebayes.pkl\")\n",
        "print('Naive Bayes Classifier saved')\n",
        "joblib.dump(svm_grid, \"/content/drive/My Drive/Twitter_Project/twitter_sentiment_svm.pkl\")\n",
        "print('SVM Classifier saved')"
      ],
      "execution_count": 0,
      "outputs": [
        {
          "output_type": "stream",
          "text": [
            "Naive Bayes Classifier saved\n",
            "SVM Classifier saved\n"
          ],
          "name": "stdout"
        }
      ]
    },
    {
      "cell_type": "code",
      "metadata": {
        "id": "IbGZU7zlIv1i",
        "colab_type": "code",
        "colab": {}
      },
      "source": [
        "# Get and save predictions from best models above\n",
        "\n",
        "# Naive Bayes\n",
        "y_preds_nb = nb_grid.predict(X_test)\n",
        "# Save predictions for evaluation as numpy arrays\n",
        "np.save('/content/drive/My Drive/Twitter_Project/y_predsNB.npy', y_preds_nb)\n",
        "\n",
        "# Support Vector Machine\n",
        "y_preds_svm = svm_grid.predict(X_test)\n",
        "# Save predictions for evaluation as numpy arrays\n",
        "np.save('/content/drive/My Drive/Twitter_Project/y_predsSVM.npy', y_preds_svm)"
      ],
      "execution_count": 0,
      "outputs": []
    },
    {
      "cell_type": "code",
      "metadata": {
        "id": "7jiYSaEbRODC",
        "colab_type": "code",
        "colab": {}
      },
      "source": [
        "# Save test data for evaluation in the next notebook\n",
        "np.save('/content/drive/My Drive/Twitter_Project/y_test.npy', y_test)"
      ],
      "execution_count": 0,
      "outputs": []
    },
    {
      "cell_type": "markdown",
      "metadata": {
        "id": "EBMx_f0U6Xpx",
        "colab_type": "text"
      },
      "source": [
        "## 6. Deep Learning Modeling\n",
        "\n",
        "**Long Short-Term Memory (LSTMN) Recurrent Neural Network**\n",
        "\n",
        "We will now implement a Recurrent Neural Network (RNN). Again, our goal is to identify whether a tweet is negative or positive.\n",
        "\n",
        "The network arquitecture is as follows:\n",
        "\n",
        "  - First, we'll pass in words to an embedding layer, our first hidden layer. We need an embedding layer because we have tens of thousands of words, so we'll need a more efficient representation for our input data than one-hot encoded vectors.\n",
        "  \n",
        "  - After input words are passed to an embedding layer, the new embeddings will be passed to LSTM cells, our second hidden layer. The LSTM cells will add recurrent connections to the network and give us the ability to include information about the sequence of words in tweets.\n",
        "\n",
        "  - Finally, the LSTM outputs will go to a softmax output layer. We're using a softmax activation function and not sigmoid because we are using one hot encoding. The basic difference between Sigmoid and Softmax is that while both give output in [0,1] range, softmax ensures that the sum of outputs along channels (as per specified dimension) is 1 i.e., they are probabilities. Sigmoid just makes output between 0 to 1. Hence, if you are using a one hot encoding scheme where one channel has probabilities of one class and other channel has probabilities of another then you must use a Softmax activation.\n",
        "\n",
        "Since we are using embeddings, we will have to encode the tweet's words to integers. For this purpose, we will convert the tweets into sequences of integers using `Tokenizer` from Keras. Then, the encoded tweets can be passed into the network."
      ]
    },
    {
      "cell_type": "markdown",
      "metadata": {
        "id": "4UNCMqMpLfbE",
        "colab_type": "text"
      },
      "source": [
        "### 6.1 Encoding the words"
      ]
    },
    {
      "cell_type": "code",
      "metadata": {
        "id": "BjvMF1ZlhgY7",
        "colab_type": "code",
        "colab": {}
      },
      "source": [
        "%tensorflow_version 1.x\n",
        "\n",
        "# Parameter indicating the number of words\n",
        "nb_words = 10000  \n",
        "\n",
        "## create the tokenizer (tweets have been preprocessed so no need for filters)\n",
        "tk = Tokenizer(num_words=nb_words)\n",
        "\n",
        "# fit the tokenizer on tweets\n",
        "tk.fit_on_texts(train_prep.tidy_tweet)\n",
        "\n",
        "# integer encode tweets\n",
        "tweets_seq = tk.texts_to_sequences(train_prep.tidy_tweet)"
      ],
      "execution_count": 0,
      "outputs": []
    },
    {
      "cell_type": "markdown",
      "metadata": {
        "id": "hl7AGyBsUB5n",
        "colab_type": "text"
      },
      "source": [
        "\n",
        "Let's print out the number of unique words in the vocabulary and the contents of the first, tokenized tweet."
      ]
    },
    {
      "cell_type": "code",
      "metadata": {
        "id": "F5ozxm63UGCK",
        "colab_type": "code",
        "outputId": "5b070280-d187-44af-bba4-04bf45268327",
        "colab": {
          "base_uri": "https://localhost:8080/",
          "height": 87
        }
      },
      "source": [
        "# stats about vocabulary\n",
        "print('Unique words: ', len((tweets_seq)))\n",
        "print()\n",
        "\n",
        "# print first encoded tweet\n",
        "print('Encoded tweet: \\n', tweets_seq[:1])"
      ],
      "execution_count": 0,
      "outputs": [
        {
          "output_type": "stream",
          "text": [
            "Unique words:  47824\n",
            "\n",
            "Encoded tweet: \n",
            " [[6, 1502]]\n"
          ],
          "name": "stdout"
        }
      ]
    },
    {
      "cell_type": "markdown",
      "metadata": {
        "id": "fbSh8ZQaVrwz",
        "colab_type": "text"
      },
      "source": [
        "### 6.2 Equal lenght of sequences\n",
        "\n",
        "Each batch needs to provide sequences of equal length. We achieve this with the `pad_sequences method`. By specifying a maximum length, the sequences are padded with zeros or truncated."
      ]
    },
    {
      "cell_type": "code",
      "metadata": {
        "id": "GEBCCGQNYIFd",
        "colab_type": "code",
        "outputId": "12f0e9f2-6733-45e0-d6ab-a2ab7943d942",
        "colab": {
          "base_uri": "https://localhost:8080/",
          "height": 173
        }
      },
      "source": [
        "train_prep['word count'].describe()"
      ],
      "execution_count": 0,
      "outputs": [
        {
          "output_type": "execute_result",
          "data": {
            "text/plain": [
              "count    47824.000000\n",
              "mean        13.599427\n",
              "std          6.845686\n",
              "min          0.000000\n",
              "25%          8.000000\n",
              "50%         13.000000\n",
              "75%         19.000000\n",
              "max         39.000000\n",
              "Name: word count, dtype: float64"
            ]
          },
          "metadata": {
            "tags": []
          },
          "execution_count": 40
        }
      ]
    },
    {
      "cell_type": "code",
      "metadata": {
        "id": "VDUpPqEaXkag",
        "colab_type": "code",
        "colab": {}
      },
      "source": [
        "# Maximum length since maximum tweet word count is 39.\n",
        "max_len = 39\n",
        "\n",
        "# Convert sequences into 2-D Numpy arrays\n",
        "features = pad_sequences(tweets_seq, maxlen=max_len)"
      ],
      "execution_count": 0,
      "outputs": []
    },
    {
      "cell_type": "code",
      "metadata": {
        "id": "8SpgzzFDanLA",
        "colab_type": "code",
        "outputId": "193b4045-adb0-46c3-88d3-eeaa999600a6",
        "colab": {
          "base_uri": "https://localhost:8080/",
          "height": 191
        }
      },
      "source": [
        "# test statements \n",
        "assert len(features)==len(tweets_seq), \"The features should have as many rows as tweets.\"\n",
        "assert len(features[0])==max_len, \"Each feature row should contain the mex length of values.\"\n",
        "\n",
        "# print first 10 values of the first 30 batches \n",
        "print(features[:10,:10])"
      ],
      "execution_count": 0,
      "outputs": [
        {
          "output_type": "stream",
          "text": [
            "[[0 0 0 0 0 0 0 0 0 0]\n",
            " [0 0 0 0 0 0 0 0 0 0]\n",
            " [0 0 0 0 0 0 0 0 0 0]\n",
            " [0 0 0 0 0 0 0 0 0 0]\n",
            " [0 0 0 0 0 0 0 0 0 0]\n",
            " [0 0 0 0 0 0 0 0 0 0]\n",
            " [0 0 0 0 0 0 0 0 0 0]\n",
            " [0 0 0 0 0 0 0 0 0 0]\n",
            " [0 0 0 0 0 0 0 0 0 0]\n",
            " [0 0 0 0 0 0 0 0 0 0]]\n"
          ],
          "name": "stdout"
        }
      ]
    },
    {
      "cell_type": "markdown",
      "metadata": {
        "id": "-szktvkhZeyr",
        "colab_type": "text"
      },
      "source": [
        "### 6.4 Split into Training, Validation, and Testing sets\n",
        "\n",
        "With the tweets ready, we now split the data for training and validation. \n"
      ]
    },
    {
      "cell_type": "code",
      "metadata": {
        "id": "Hw518nUTWQGS",
        "colab_type": "code",
        "outputId": "ae167936-fe9f-48f6-f4c5-4600f62293b0",
        "colab": {
          "base_uri": "https://localhost:8080/",
          "height": 104
        }
      },
      "source": [
        "# to hot-encode\n",
        "train_prep[\"label\"] = train_prep[\"label\"].astype(\"category\")\n",
        "train_prep.label.describe()"
      ],
      "execution_count": 0,
      "outputs": [
        {
          "output_type": "execute_result",
          "data": {
            "text/plain": [
              "count     47824.0\n",
              "unique        2.0\n",
              "top           0.0\n",
              "freq      24203.0\n",
              "Name: label, dtype: float64"
            ]
          },
          "metadata": {
            "tags": []
          },
          "execution_count": 13
        }
      ]
    },
    {
      "cell_type": "code",
      "metadata": {
        "id": "Suw6f9zSTuSr",
        "colab_type": "code",
        "outputId": "67429c68-cb99-459a-fed6-56fd9ccd9b42",
        "colab": {
          "base_uri": "https://localhost:8080/",
          "height": 104
        }
      },
      "source": [
        "## split data into training and test data (features and labels, x and y)\n",
        "# data needs to be as array\n",
        "labels = pd.get_dummies(train_prep['label']).values\n",
        "#labels = np.asarray(train_prep.label.values)\n",
        "\n",
        "X_train, X_test, Y_train, Y_test = train_test_split(features, labels, test_size = 0.2, random_state = 42)\n",
        "\n",
        "## print out the shapes of the resultant feature data\n",
        "print(\"\\t\\t\\tFeature Shapes:\")\n",
        "print(\"Train set X: \\t\\t{}\".format(X_train.shape),\n",
        "      \"\\nTrain set Y: \\t\\t{}\".format(Y_train.shape),\n",
        "      \"\\nTest set X: \\t\\t{}\".format(X_test.shape),\n",
        "      \"\\nTest set Y: \\t\\t{}\".format(Y_test.shape))"
      ],
      "execution_count": 0,
      "outputs": [
        {
          "output_type": "stream",
          "text": [
            "\t\t\tFeature Shapes:\n",
            "Train set X: \t\t(38259, 39) \n",
            "Train set Y: \t\t(38259, 2) \n",
            "Test set X: \t\t(9565, 39) \n",
            "Test set Y: \t\t(9565, 2)\n"
          ],
          "name": "stdout"
        }
      ]
    },
    {
      "cell_type": "markdown",
      "metadata": {
        "id": "rauwUTyx0gpJ",
        "colab_type": "text"
      },
      "source": [
        "### 6.5. LSTM Network with Keras\n",
        "\n",
        " In Keras we can simply stack multiple layers on top of each other. For this we need to initialise the model as `Sequential()`.\n"
      ]
    },
    {
      "cell_type": "code",
      "metadata": {
        "id": "9nI9yLfypONi",
        "colab_type": "code",
        "outputId": "b19c695b-ca83-4b83-fb38-97bdeae54c87",
        "colab": {
          "base_uri": "https://localhost:8080/",
          "height": 35
        }
      },
      "source": [
        "# First checking if GPU is available\n",
        "train_on_gpu=torch.cuda.is_available()\n",
        "\n",
        "if(train_on_gpu):\n",
        "    print('Training on GPU.')\n",
        "else:\n",
        "    print('No GPU available, training on CPU.')"
      ],
      "execution_count": 0,
      "outputs": [
        {
          "output_type": "stream",
          "text": [
            "Training on GPU.\n"
          ],
          "name": "stdout"
        }
      ]
    },
    {
      "cell_type": "code",
      "metadata": {
        "colab_type": "code",
        "outputId": "5a61598c-cc5d-4f1a-d203-83ff111ad30a",
        "id": "mCOqnQI4d4iX",
        "colab": {
          "base_uri": "https://localhost:8080/",
          "height": 295
        }
      },
      "source": [
        "#--- Parameters----#\n",
        "\n",
        "# encodes input sequence dense vectors \n",
        "embed_dim = 128\n",
        "\n",
        "# transforms the vector sequence into a single vector\n",
        "lstm_out = 200\n",
        "\n",
        "# batch size of 32 is a good starting point\n",
        "batch_size = 32\n",
        "\n",
        "# epochs\n",
        "nb_epoch = 10\n",
        "\n",
        "#------# Build the LSTM model #-----------------#\n",
        "\n",
        "print('Building model...') \n",
        "\n",
        "# Initialising the RNN\n",
        "model = Sequential()\n",
        "\n",
        "#adding an input layer and the first hidden layer\n",
        "model.add(Embedding(2500, embed_dim, \n",
        "                    input_length = features.shape[1], \n",
        "                    dropout = 0.2)) \n",
        "# Adding the second hidden layer\n",
        "model.add(LSTM(lstm_out, dropout_U = 0.2, dropout_W = 0.2))\n",
        "# Adding the output layer\n",
        "model.add(Dense(2, activation='softmax'))\n",
        "\n",
        "# Compile model\n",
        "model.compile( optimizer='adam', # optimazer\n",
        "              loss = 'categorical_crossentropy', # loss function\n",
        "              metrics = ['accuracy']) # list of metrics\n",
        "\n",
        "model.name = 'LSTM model'\n",
        "print(model.summary())"
      ],
      "execution_count": 0,
      "outputs": [
        {
          "output_type": "stream",
          "text": [
            "Building model...\n",
            "Model: \"LSTM model\"\n",
            "_________________________________________________________________\n",
            "Layer (type)                 Output Shape              Param #   \n",
            "=================================================================\n",
            "embedding_1 (Embedding)      (None, 39, 128)           320000    \n",
            "_________________________________________________________________\n",
            "lstm_1 (LSTM)                (None, 200)               263200    \n",
            "_________________________________________________________________\n",
            "dense_1 (Dense)              (None, 2)                 402       \n",
            "=================================================================\n",
            "Total params: 583,602\n",
            "Trainable params: 583,602\n",
            "Non-trainable params: 0\n",
            "_________________________________________________________________\n",
            "None\n"
          ],
          "name": "stdout"
        }
      ]
    },
    {
      "cell_type": "code",
      "metadata": {
        "id": "mKSTc7teTOVl",
        "colab_type": "code",
        "outputId": "8a46d56d-cd99-4292-f426-6e4b69a7daf9",
        "colab": {
          "base_uri": "https://localhost:8080/",
          "height": 381
        }
      },
      "source": [
        "# Fit the model\n",
        "history = model.fit(X_train, Y_train, \n",
        "                    validation_split=0.33, \n",
        "                    batch_size = batch_size, \n",
        "                    nb_epoch = nb_epoch, verbose = True)"
      ],
      "execution_count": 0,
      "outputs": [
        {
          "output_type": "stream",
          "text": [
            "Train on 25633 samples, validate on 12626 samples\n",
            "Epoch 1/10\n",
            "25633/25633 [==============================] - 66s 3ms/step - loss: 0.5608 - acc: 0.7091 - val_loss: 0.5233 - val_acc: 0.7428\n",
            "Epoch 2/10\n",
            "25633/25633 [==============================] - 65s 3ms/step - loss: 0.4935 - acc: 0.7623 - val_loss: 0.5232 - val_acc: 0.7405\n",
            "Epoch 3/10\n",
            "25633/25633 [==============================] - 65s 3ms/step - loss: 0.4632 - acc: 0.7777 - val_loss: 0.5343 - val_acc: 0.7378\n",
            "Epoch 4/10\n",
            "25633/25633 [==============================] - 66s 3ms/step - loss: 0.4325 - acc: 0.7952 - val_loss: 0.5585 - val_acc: 0.7319\n",
            "Epoch 5/10\n",
            "25633/25633 [==============================] - 66s 3ms/step - loss: 0.4030 - acc: 0.8100 - val_loss: 0.5701 - val_acc: 0.7298\n",
            "Epoch 6/10\n",
            "25633/25633 [==============================] - 66s 3ms/step - loss: 0.3690 - acc: 0.8264 - val_loss: 0.6362 - val_acc: 0.7175\n",
            "Epoch 7/10\n",
            "25633/25633 [==============================] - 66s 3ms/step - loss: 0.3393 - acc: 0.8414 - val_loss: 0.6652 - val_acc: 0.7100\n",
            "Epoch 8/10\n",
            "25633/25633 [==============================] - 66s 3ms/step - loss: 0.3115 - acc: 0.8551 - val_loss: 0.7608 - val_acc: 0.7083\n",
            "Epoch 9/10\n",
            "25633/25633 [==============================] - 66s 3ms/step - loss: 0.2827 - acc: 0.8713 - val_loss: 0.8198 - val_acc: 0.7027\n",
            "Epoch 10/10\n",
            "25633/25633 [==============================] - 65s 3ms/step - loss: 0.2554 - acc: 0.8843 - val_loss: 0.8845 - val_acc: 0.7014\n"
          ],
          "name": "stdout"
        }
      ]
    },
    {
      "cell_type": "markdown",
      "metadata": {
        "id": "ltJP4o1GEs6D",
        "colab_type": "text"
      },
      "source": [
        "We ran the model for a 10 epochs. We can observe that the loss for the validation data beings to increase after the epoch 1, which suggest overfitting. Let's double check that with the help of the helper functions `eval_metric` and `optimal_epoch`. We'll then try to address the issue by tweeking our model and then test if there's any improvement. For the original source code of the helper functions, check [this very complete notebook.](https://github.com/bertcarremans/TwitterUSAirlineSentiment/blob/master/source/Handling%20overfitting%20in%20deep%20learning%20models.ipynb)"
      ]
    },
    {
      "cell_type": "code",
      "metadata": {
        "id": "GTMBOFR3Cy-s",
        "colab_type": "code",
        "colab": {}
      },
      "source": [
        "# Helper functions\n",
        "\n",
        "def eval_metric(model, history, metric_name):\n",
        "    '''\n",
        "    Function to evaluate a trained model on a chosen metric. \n",
        "    Training and validation metric are plotted in a\n",
        "    line chart for each epoch.\n",
        "    \n",
        "    Parameters:\n",
        "        history : model training history\n",
        "        metric_name : loss or accuracy\n",
        "    Output:\n",
        "        line chart with epochs of x-axis and metric on\n",
        "        y-axis\n",
        "    '''\n",
        "    metric = history.history[metric_name]\n",
        "    val_metric = history.history['val_' + metric_name]\n",
        "\n",
        "    e = range(1, nb_epoch + 1)\n",
        "\n",
        "    plt.plot(e, metric, 'ro', label='Train ' + metric_name)\n",
        "    plt.plot(e, val_metric, 'r', label='Validation ' + metric_name)\n",
        "    plt.xlabel('Epoch number')\n",
        "    plt.ylabel(metric_name)\n",
        "    plt.title('Comparing training and validation ' + metric_name + ' for ' + model.name)\n",
        "    plt.legend()\n",
        "    plt.show()\n",
        "\n",
        "\n",
        "def optimal_epoch(model_hist):\n",
        "    '''\n",
        "    Function to return the epoch number where the validation loss is\n",
        "    at its minimum\n",
        "    \n",
        "    Parameters:\n",
        "        model_hist : training history of model\n",
        "    Output:\n",
        "        epoch number with minimum validation loss\n",
        "    '''\n",
        "    min_epoch = np.argmin(model_hist.history['val_loss']) + 1\n",
        "    print(\"Minimum validation loss reached in epoch {}\".format(min_epoch))\n",
        "    return min_epoch\n",
        "\n",
        "def test_model(model, X_train, y_train, X_test, y_test, epoch_stop):\n",
        "    '''\n",
        "    Function to test the model on new data after training it\n",
        "    on the full training data with the optimal number of epochs.\n",
        "    \n",
        "    Parameters:\n",
        "        model : trained model\n",
        "        X_train : training features\n",
        "        y_train : training target\n",
        "        X_test : test features\n",
        "        y_test : test target\n",
        "        epochs : optimal number of epochs\n",
        "    Output:\n",
        "        test accuracy and test loss\n",
        "    '''\n",
        "    model.fit(X_train\n",
        "              , y_train\n",
        "              , epochs=epoch_stop\n",
        "              , batch_size=nb_epoch\n",
        "              , verbose=0)\n",
        "    results = model.evaluate(X_test, y_test)\n",
        "    print()\n",
        "    print('Test accuracy: {0:.2f}%'.format(results[1]*100))\n",
        "    return results"
      ],
      "execution_count": 0,
      "outputs": []
    },
    {
      "cell_type": "code",
      "metadata": {
        "id": "CX-R0EB2DAVP",
        "colab_type": "code",
        "outputId": "1365c7f1-462b-4697-eb7d-2af668b9b6bf",
        "colab": {
          "base_uri": "https://localhost:8080/",
          "height": 408
        }
      },
      "source": [
        "eval_metric(model, history, 'loss')\n"
      ],
      "execution_count": 0,
      "outputs": [
        {
          "output_type": "display_data",
          "data": {
            "image/png": "[encoded data removed]",
            "text/plain": [
              "<Figure size 720x432 with 1 Axes>"
            ]
          },
          "metadata": {
            "tags": []
          }
        }
      ]
    },
    {
      "cell_type": "code",
      "metadata": {
        "id": "_mArAgg-BtyU",
        "colab_type": "code",
        "outputId": "6bc89835-bbf1-4b2d-f454-fb593eea7520",
        "colab": {
          "base_uri": "https://localhost:8080/",
          "height": 52
        }
      },
      "source": [
        "optimal_epoch(history)"
      ],
      "execution_count": 0,
      "outputs": [
        {
          "output_type": "stream",
          "text": [
            "Minimum validation loss reached in epoch 2\n"
          ],
          "name": "stdout"
        },
        {
          "output_type": "execute_result",
          "data": {
            "text/plain": [
              "2"
            ]
          },
          "metadata": {
            "tags": []
          },
          "execution_count": 25
        }
      ]
    },
    {
      "cell_type": "markdown",
      "metadata": {
        "id": "OcGgnNx25xxS",
        "colab_type": "text"
      },
      "source": [
        "Two things we observe from the graphs are:\n",
        "\n",
        "  - The training loss keeps decreasing after every epoch. Our model is learning to recognise the specific patterns in the training set.\n",
        "\n",
        "  - The validation loss keeps increasing after every epoch. Our model is not generalising well enough on the validation set.\n",
        "\n",
        "The training loss continues to go down and almost reaches zero at epoch 10. This is normal as the model is trained to fit the train data as good as possible.\n",
        "\n",
        "So, we are **overtraining**. \n",
        "\n",
        "We can try to do something about the overfitting. We are already using a drop out layer, which randomly removes certain features by setting them to zero. \n",
        "\n",
        "\n",
        "We can apply regularisation, which comes down to adding a cost to the loss function for large weights.\n",
        "\n",
        "There are L1 and L2 regularisation:\n",
        "\n",
        "  - L1 regularisation will add a cost with regards to the absolute value of the parameters. It will result in some of the weights to be equal to zero.\n",
        "\n",
        "  - L2 regularszation will add a cost with regards to the squared value of the parameters. This results in smaller weights.\n",
        "\n",
        "Let's try with **L2 regularisation.**"
      ]
    },
    {
      "cell_type": "code",
      "metadata": {
        "id": "129xAPHMgmJy",
        "colab_type": "code",
        "outputId": "605d5661-132b-49eb-c999-bb7f5865e37a",
        "colab": {
          "base_uri": "https://localhost:8080/",
          "height": 295
        }
      },
      "source": [
        "# Applying regularisation\n",
        "\n",
        "print('Building model...') \n",
        "\n",
        "reg_model = Sequential()\n",
        "reg_model.add(Embedding(2500, embed_dim, input_length = features.shape[1], dropout = 0.2))\n",
        "reg_model.add(LSTM(lstm_out, dropout_U = 0.2, dropout_W = 0.2))\n",
        "reg_model.add(Dense(2, kernel_regularizer=regularizers.l2(0.001), activation='softmax'))\n",
        "\n",
        "# Compile model\n",
        "reg_model.compile( optimizer='adam', # optimazer\n",
        "              loss = 'categorical_crossentropy', # loss function\n",
        "              metrics = ['accuracy']) # list of metrics\n",
        "\n",
        "reg_model.name = 'LSTM with Regularisation model'\n",
        "print(reg_model.summary())"
      ],
      "execution_count": 0,
      "outputs": [
        {
          "output_type": "stream",
          "text": [
            "Building model...\n",
            "Model: \"LSTM with Regularisation model\"\n",
            "_________________________________________________________________\n",
            "Layer (type)                 Output Shape              Param #   \n",
            "=================================================================\n",
            "embedding_2 (Embedding)      (None, 39, 128)           320000    \n",
            "_________________________________________________________________\n",
            "lstm_2 (LSTM)                (None, 200)               263200    \n",
            "_________________________________________________________________\n",
            "dense_2 (Dense)              (None, 2)                 402       \n",
            "=================================================================\n",
            "Total params: 583,602\n",
            "Trainable params: 583,602\n",
            "Non-trainable params: 0\n",
            "_________________________________________________________________\n",
            "None\n"
          ],
          "name": "stdout"
        }
      ]
    },
    {
      "cell_type": "code",
      "metadata": {
        "id": "ErZ7xdm_LfOK",
        "colab_type": "code",
        "outputId": "52bdcbf1-fb7c-4c0a-8c5d-4142c241d43e",
        "colab": {
          "base_uri": "https://localhost:8080/",
          "height": 381
        }
      },
      "source": [
        "# Fit the model\n",
        "reg_history = reg_model.fit(X_train, Y_train, \n",
        "                    validation_split=0.33, \n",
        "                    batch_size = batch_size, \n",
        "                    nb_epoch = nb_epoch, verbose = True)"
      ],
      "execution_count": 0,
      "outputs": [
        {
          "output_type": "stream",
          "text": [
            "Train on 25633 samples, validate on 12626 samples\n",
            "Epoch 1/10\n",
            "25633/25633 [==============================] - 68s 3ms/step - loss: 0.5628 - acc: 0.7056 - val_loss: 0.5214 - val_acc: 0.7429\n",
            "Epoch 2/10\n",
            "25633/25633 [==============================] - 67s 3ms/step - loss: 0.4964 - acc: 0.7609 - val_loss: 0.5227 - val_acc: 0.7418\n",
            "Epoch 3/10\n",
            "25633/25633 [==============================] - 67s 3ms/step - loss: 0.4667 - acc: 0.7780 - val_loss: 0.5255 - val_acc: 0.7362\n",
            "Epoch 4/10\n",
            "25633/25633 [==============================] - 68s 3ms/step - loss: 0.4359 - acc: 0.7949 - val_loss: 0.5564 - val_acc: 0.7328\n",
            "Epoch 5/10\n",
            "25633/25633 [==============================] - 68s 3ms/step - loss: 0.4045 - acc: 0.8102 - val_loss: 0.5889 - val_acc: 0.7297\n",
            "Epoch 6/10\n",
            "25633/25633 [==============================] - 67s 3ms/step - loss: 0.3743 - acc: 0.8268 - val_loss: 0.6047 - val_acc: 0.7226\n",
            "Epoch 7/10\n",
            "25633/25633 [==============================] - 67s 3ms/step - loss: 0.3445 - acc: 0.8410 - val_loss: 0.6713 - val_acc: 0.7211\n",
            "Epoch 8/10\n",
            "25633/25633 [==============================] - 67s 3ms/step - loss: 0.3189 - acc: 0.8552 - val_loss: 0.7678 - val_acc: 0.7150\n",
            "Epoch 9/10\n",
            "25633/25633 [==============================] - 67s 3ms/step - loss: 0.2884 - acc: 0.8692 - val_loss: 0.8075 - val_acc: 0.7077\n",
            "Epoch 10/10\n",
            "25633/25633 [==============================] - 67s 3ms/step - loss: 0.2674 - acc: 0.8839 - val_loss: 0.8614 - val_acc: 0.7014\n"
          ],
          "name": "stdout"
        }
      ]
    },
    {
      "cell_type": "code",
      "metadata": {
        "id": "Z4H340HlO2Aw",
        "colab_type": "code",
        "outputId": "792bb15f-b1a4-4149-f80b-d8e34ff5cab9",
        "colab": {
          "base_uri": "https://localhost:8080/",
          "height": 408
        }
      },
      "source": [
        "eval_metric(reg_model, reg_history, 'loss')"
      ],
      "execution_count": 0,
      "outputs": [
        {
          "output_type": "display_data",
          "data": {
            "image/png": "[encoded data removed]",
            "text/plain": [
              "<Figure size 720x432 with 1 Axes>"
            ]
          },
          "metadata": {
            "tags": []
          }
        }
      ]
    },
    {
      "cell_type": "code",
      "metadata": {
        "id": "hye2f3rMO66g",
        "colab_type": "code",
        "outputId": "7c490686-41eb-4fc2-832a-de3c6f7ef38e",
        "colab": {
          "base_uri": "https://localhost:8080/",
          "height": 52
        }
      },
      "source": [
        "optimal_epoch(reg_history)"
      ],
      "execution_count": 0,
      "outputs": [
        {
          "output_type": "stream",
          "text": [
            "Minimum validation loss reached in epoch 1\n"
          ],
          "name": "stdout"
        },
        {
          "output_type": "execute_result",
          "data": {
            "text/plain": [
              "1"
            ]
          },
          "metadata": {
            "tags": []
          },
          "execution_count": 29
        }
      ]
    },
    {
      "cell_type": "markdown",
      "metadata": {
        "id": "CM80lTbuPCDh",
        "colab_type": "text"
      },
      "source": [
        "\n",
        "\n",
        "We can see that it starts overfitting in the second epoch as the first model. Also, the validation loss increases slower afterwards."
      ]
    },
    {
      "cell_type": "markdown",
      "metadata": {
        "id": "jQsDKwgZSjqc",
        "colab_type": "text"
      },
      "source": [
        "At first sight the reduced model seems to be the best model for generalisation. But let's check that on the test set using the `test_model` helper function. "
      ]
    },
    {
      "cell_type": "code",
      "metadata": {
        "id": "IL1F15JyTJjd",
        "colab_type": "code",
        "outputId": "571861cb-daca-41ad-903a-94a2f4b81057",
        "colab": {
          "base_uri": "https://localhost:8080/",
          "height": 69
        }
      },
      "source": [
        "# Optimal epochs\n",
        "base_min = 1 # first model\n",
        "reg_min = 2 # model with regularisation\n",
        "\n",
        "# Training on the full train data and evaluation on test data on first model\n",
        "base_results = test_model(model, X_train, Y_train, X_test, Y_test, base_min)"
      ],
      "execution_count": 0,
      "outputs": [
        {
          "output_type": "stream",
          "text": [
            "9565/9565 [==============================] - 10s 1ms/step\n",
            "\n",
            "Test accuracy: 74.81%\n"
          ],
          "name": "stdout"
        }
      ]
    },
    {
      "cell_type": "code",
      "metadata": {
        "id": "2KiX8bRdWHPX",
        "colab_type": "code",
        "outputId": "a0758a4e-0797-4cec-c60a-7e5b0284c51b",
        "colab": {
          "base_uri": "https://localhost:8080/",
          "height": 69
        }
      },
      "source": [
        "# Training on second model with regularisation and evaluation on data on second model\n",
        "reg_results = test_model(reg_model, X_train, Y_train, X_test, Y_test, reg_min)"
      ],
      "execution_count": 0,
      "outputs": [
        {
          "output_type": "stream",
          "text": [
            "9565/9565 [==============================] - 10s 1ms/step\n",
            "\n",
            "Test accuracy: 74.47%\n"
          ],
          "name": "stdout"
        }
      ]
    },
    {
      "cell_type": "markdown",
      "metadata": {
        "id": "IynxgnI-Z6k-",
        "colab_type": "text"
      },
      "source": [
        "As shown above, applying regularisation helped with the overfitting but it didn't do much to the model's accuracy on the test data. We'll do a more comprehensive evaluation and compare both versions of the LSTM model with the machine learning models we trained previously, the Naive Bayes Classifier and Support Vector Machine Classifier. "
      ]
    },
    {
      "cell_type": "markdown",
      "metadata": {
        "id": "S5ZsWITKp2JH",
        "colab_type": "text"
      },
      "source": [
        "Let's save our models and predictions:"
      ]
    },
    {
      "cell_type": "code",
      "metadata": {
        "id": "RKy2Ljwop1lh",
        "colab_type": "code",
        "outputId": "26b6fa03-c5d5-4b99-8f54-95dd21cd0fa9",
        "colab": {
          "base_uri": "https://localhost:8080/",
          "height": 52
        }
      },
      "source": [
        "# save first model and architecture\n",
        "model.save('/content/drive/My Drive/Twitter_Project/LSTM_model.h5')\n",
        "print('Saved LSTM model to drive')\n",
        "\n",
        "# save second model and architecture\n",
        "reg_model.save('/content/drive/My Drive/Twitter_Project/LSTM_regmodel.h5')\n",
        "print('Saved LSTM model to drive')"
      ],
      "execution_count": 0,
      "outputs": [
        {
          "output_type": "stream",
          "text": [
            "Saved LSTM model to drive\n",
            "Saved LSTM model to drive\n"
          ],
          "name": "stdout"
        }
      ]
    },
    {
      "cell_type": "code",
      "metadata": {
        "id": "soTyYMTNpcP7",
        "colab_type": "code",
        "outputId": "93f87fc3-3a46-4b2d-992b-f180996da896",
        "colab": {
          "base_uri": "https://localhost:8080/",
          "height": 52
        }
      },
      "source": [
        "# saving predictions\n",
        "X_train, X_test, Y_train, Y_test\n",
        "\n",
        "#-- LSTM model ----#\n",
        "y_preds_LSTM = model.predict(X_test)\n",
        "\n",
        "# Save predictions for evaluation as numpy arrays\n",
        "np.save('/content/drive/My Drive/Twitter_Project/y_predsLSTM.npy', y_preds_LSTM)\n",
        "print('LSTM model predictions saved to drive')\n",
        "\n",
        "#-- LSTM with regularisation model ----#\n",
        "y_preds_LSTMreg = reg_model.predict(X_test)\n",
        "\n",
        "# Save predictions for evaluation as numpy arrays\n",
        "np.save('/content/drive/My Drive/Twitter_Project/y_predsLSTMreg.npy', y_preds_LSTMreg)\n",
        "print('LSTM reg model predictions saved to drive')\n",
        "\n",
        "# Save test data\n",
        "np.save('/content/drive/My Drive/Twitter_Project/y_testLSTM.npy', Y_test)"
      ],
      "execution_count": 0,
      "outputs": [
        {
          "output_type": "stream",
          "text": [
            "LSTM model predictions saved to drive\n",
            "LSTM reg model predictions saved to drive\n"
          ],
          "name": "stdout"
        }
      ]
    },
    {
      "cell_type": "code",
      "metadata": {
        "id": "Kzci3gytn-h3",
        "colab_type": "code",
        "outputId": "60fa74c0-23b6-4850-f32f-406020a65a10",
        "colab": {
          "base_uri": "https://localhost:8080/",
          "height": 35
        }
      },
      "source": [
        "# Save test data\n",
        "np.save('/content/drive/My Drive/Twitter_Project/y_testLSTM.npy', Y_test)\n",
        "print('Test data saved')"
      ],
      "execution_count": 0,
      "outputs": [
        {
          "output_type": "stream",
          "text": [
            "Test data saved\n"
          ],
          "name": "stdout"
        }
      ]
    }
  ]
}