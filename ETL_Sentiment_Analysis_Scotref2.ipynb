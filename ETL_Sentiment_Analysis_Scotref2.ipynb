{
  "nbformat": 4,
  "nbformat_minor": 0,
  "metadata": {
    "colab": {
      "name": "ETL_Sentiment_Analysis_Scotref2.ipynb",
      "provenance": [],
      "collapsed_sections": [],
      "include_colab_link": true
    },
    "kernelspec": {
      "name": "python3",
      "display_name": "Python 3"
    },
    "accelerator": "GPU"
  },
  "cells": [
    {
      "cell_type": "markdown",
      "metadata": {
        "id": "view-in-github",
        "colab_type": "text"
      },
      "source": [
        "<a href=\"https://colab.research.google.com/github/gracecarrillo/Political-Data-Science/blob/master/ETL_Sentiment_Analysis_Scotref2.ipynb\" target=\"_parent\"><img src=\"https://colab.research.google.com/assets/colab-badge.svg\" alt=\"Open In Colab\"/></a>"
      ]
    },
    {
      "cell_type": "markdown",
      "metadata": {
        "id": "ma5cRQJafwRY",
        "colab_type": "text"
      },
      "source": [
        "# Scottish independence: Twitter data Sentiment Analysis\n",
        "\n"
      ]
    },
    {
      "cell_type": "markdown",
      "metadata": {
        "id": "mFiPGpFfkIUU",
        "colab_type": "text"
      },
      "source": [
        "## 1. Problem Statement\n",
        "\n",
        "## 2. ETL (Extract, Load, Transform)\n",
        "\n",
        "  - Data collection\n",
        "    - Test \n",
        "    - Train\n",
        "\n",
        "  - Preprocessing and Cleaning\n",
        "\n",
        "    - Data Inspection\n",
        "    - Data Cleaning"
      ]
    },
    {
      "cell_type": "markdown",
      "metadata": {
        "id": "cIaWp1Dn7XSs",
        "colab_type": "text"
      },
      "source": [
        "## 1. Problem Statement\n",
        "\n",
        "The role of social media in shaping politics these days is hard to deny and Twitter is arguably the most studied and used source of data even though in many countries Twitter is not the main player. We use mostly Twitter data because that's what's (almost) publicly available whereas it’s (almost) impossible to collect any useful data from Facebook. As part of the IBM Advanced Data Science Specialisation, I chose to look into the current political situation in Scotland after the Brexit vote, and most recently, Boris Johnson's win the winter General Election of 2019.\n",
        "\n",
        "Scottish voters were first asked whether they wanted Scotland to become an independent country in a referendum in September 2014; the result was 55% to 45% against independence. In its manifesto for the 2016 Scottish Parliament elections, the Scottish National Party (SNP) argued that “Scotland being taken out of the EU against our will” would justify a second vote on independence. Scotland voted by 62% to 38% in favour of Remain in the EU referendum in June 2016, and First Minister Nicola Sturgeon concluded that indyref2 “must be on the table”. In March 2017 Sturgeon formally requested the consent of Westminster to hold another referendum. But Prime Minister Theresa May declined, arguing that “now is not the time”. The first minister renewed calls for a second vote in April 2019, announcing a new process for deciding Scotland’s constitutional future. The SNP's 2019 General Election manifesto stated that the party intended to hold a second referendum in 2020; and they won 48 of Scotland’s 59 seats. So, naturally, Nicola Sturgeon has now claimed there is a “renewed, refreshed and strengthened mandate” for another vote.She has formally request the power to hold an independence referendum before the end of 2020, but it has been denied by Boris Johnson. All of this has created a complicated environment in a nation that appears to be in a very difficult (and not very favourable) position within Boris Johnson's UK.\n",
        "\n",
        "This project looks into Twitter as political barometer for Scottish Independence using Sentiment Analysis, a Natural Language Processing subfield. I downloaded the dataset using twitter’s API. A week of Tweets were scrapped from 2020-01-08 13:49:18 to 2020-01-15 20:02:23 using keywords `indyref2`, `scottish independence` and `scotref`. The process I used to scrape the data and to analyze sentiment can be repeated for any twitter account of media page.\n",
        "\n",
        "We train two Supervised Machine LEarning models (Support Vector Machine and Naive Bayes Classifier) and do a systematic comparison with a Deep Learning Recurrent Neural Network.\n",
        "\n",
        "The training data was obtained from [Sentiment140](http://help.sentiment140.com/) and is made up of about 1.6 million random tweets with corresponding binary labels. 0 for Negative sentiment and 4 for Positive sentiment. \n",
        "\n",
        "I downloaded the test dataset using twitter’s API and will be use to test the model’s real world performance. Tweets were scrapped from 2020-01-08 13:49:18 to  2020-01-15 20:02:23 using keywords \"indyref2\", \"scottish independence\" and \"scotref\". Full documentation and terms of the API are available at [developer.twitter.com/en/docs](https://developer.twitter.com/en/docs)."
      ]
    },
    {
      "cell_type": "code",
      "metadata": {
        "id": "oP1c5gDe2M6-",
        "colab_type": "code",
        "colab": {}
      },
      "source": [
        "# Must be upgraded\n",
        "!pip install tqdm==4.36.1 --upgrade"
      ],
      "execution_count": 0,
      "outputs": []
    },
    {
      "cell_type": "code",
      "metadata": {
        "id": "pUU5MOCAP1j0",
        "colab_type": "code",
        "colab": {}
      },
      "source": [
        "!pip install tweet_parser"
      ],
      "execution_count": 0,
      "outputs": []
    },
    {
      "cell_type": "code",
      "metadata": {
        "id": "v0Xc0nZtWke9",
        "colab_type": "code",
        "colab": {}
      },
      "source": [
        "!pip install --upgrade gensim"
      ],
      "execution_count": 0,
      "outputs": []
    },
    {
      "cell_type": "code",
      "metadata": {
        "id": "VOnd_sShyvQx",
        "colab_type": "code",
        "colab": {}
      },
      "source": [
        "!pip install vaderSentiment"
      ],
      "execution_count": 0,
      "outputs": []
    },
    {
      "cell_type": "code",
      "metadata": {
        "id": "rk4fAdKjRIdC",
        "colab_type": "code",
        "colab": {}
      },
      "source": [
        "from google.colab import drive\n",
        "drive.mount('/content/drive')"
      ],
      "execution_count": 0,
      "outputs": []
    },
    {
      "cell_type": "code",
      "metadata": {
        "id": "cpXSoADwxTTs",
        "colab_type": "code",
        "colab": {
          "base_uri": "https://localhost:8080/",
          "height": 35
        },
        "outputId": "657bc8a1-321b-45a3-b9b7-a545848a4061"
      },
      "source": [
        "# general\n",
        "import os\n",
        "import pandas as pd\n",
        "import numpy as np\n",
        "import csv\n",
        "import string\n",
        "import matplotlib.pyplot as plt\n",
        "import seaborn as sns\n",
        "import random\n",
        "import itertools\n",
        "import collections\n",
        "from collections import Counter\n",
        "\n",
        "# tweets\n",
        "import tweepy as tw\n",
        "import re\n",
        "from collections import Counter\n",
        "from string import punctuation\n",
        "from tweepy import OAuthHandler\n",
        "import json\n",
        "\n",
        "# text manipulation \n",
        "import nltk \n",
        "from nltk.corpus import stopwords\n",
        "from nltk.tokenize import TweetTokenizer\n",
        "from nltk.stem.wordnet import WordNetLemmatizer\n",
        "from nltk.stem.porter import PorterStemmer\n",
        "from nltk.stem.porter import * \n",
        "\n",
        "# plots\n",
        "from wordcloud import WordCloud\n",
        "import plotly\n",
        "import chart_studio.plotly as py\n",
        "import plotly.graph_objs as go \n",
        "from plotly.offline import download_plotlyjs, init_notebook_mode, plot, iplot\n",
        "import cufflinks as cf\n",
        "cf.go_offline()\n",
        "\n",
        "# Feature Engineering\n",
        "from vaderSentiment.vaderSentiment import SentimentIntensityAnalyzer\n",
        "\n",
        "# Machine Learning\n",
        "from sklearn.pipeline import Pipeline\n",
        "from sklearn.pipeline import FeatureUnion\n",
        "from sklearn.model_selection import train_test_split\n",
        "from sklearn.metrics import classification_report, confusion_matrix, accuracy_score\n",
        "from sklearn.model_selection import KFold, cross_val_score\n",
        "from sklearn.ensemble import RandomForestClassifier\n",
        "from sklearn.naive_bayes import MultinomialNB\n",
        "from sklearn.svm import LinearSVC\n",
        "from sklearn.model_selection import GridSearchCV\n",
        "from sklearn.externals import joblib\n",
        "from sklearn.base import BaseEstimator, TransformerMixin\n",
        "from sklearn.feature_extraction.text import TfidfVectorizer, HashingVectorizer, CountVectorizer\n",
        "from sklearn.preprocessing import MinMaxScaler\n",
        "from sklearn.preprocessing import LabelEncoder\n",
        "\n",
        "# For geoplots\n",
        "from IPython.display import IFrame\n",
        "import folium\n",
        "from folium import plugins\n",
        "from folium.plugins import MarkerCluster, FastMarkerCluster, HeatMapWithTime\n",
        "import networkx\n",
        "\n",
        "# hide warnings\n",
        "import warnings\n",
        "warnings.filterwarnings(\"ignore\")\n",
        "\n",
        "\n",
        "# set plot preferences\n",
        "plt.style.use(style='ggplot')\n",
        "plt.rcParams['figure.figsize'] = (10, 6)\n",
        "pd.set_option(\"display.max_colwidth\", 200) \n",
        "plt.rcParams['axes.labelcolor']='r'\n",
        "\n",
        "print('Libraries imported')\n",
        "%matplotlib inline"
      ],
      "execution_count": 5,
      "outputs": [
        {
          "output_type": "display_data",
          "data": {
            "text/html": [
              "        <script type=\"text/javascript\">\n",
              "        window.PlotlyConfig = {MathJaxConfig: 'local'};\n",
              "        if (window.MathJax) {MathJax.Hub.Config({SVG: {font: \"STIX-Web\"}});}\n",
              "        if (typeof require !== 'undefined') {\n",
              "        require.undef(\"plotly\");\n",
              "        requirejs.config({\n",
              "            paths: {\n",
              "                'plotly': ['https://cdn.plot.ly/plotly-latest.min']\n",
              "            }\n",
              "        });\n",
              "        require(['plotly'], function(Plotly) {\n",
              "            window._Plotly = Plotly;\n",
              "        });\n",
              "        }\n",
              "        </script>\n",
              "        "
            ]
          },
          "metadata": {
            "tags": []
          }
        },
        {
          "output_type": "stream",
          "text": [
            "Libraries imported\n"
          ],
          "name": "stdout"
        }
      ]
    },
    {
      "cell_type": "markdown",
      "metadata": {
        "id": "vJBv78vjYOGe",
        "colab_type": "text"
      },
      "source": [
        "## 2. ETL \n",
        "\n",
        "### 2.1 Extracting Twitter Data For Sentiment Analysis - The test data"
      ]
    },
    {
      "cell_type": "markdown",
      "metadata": {
        "id": "50yNsO9zZt3Q",
        "colab_type": "text"
      },
      "source": [
        "After training the model we will make sentiment preditions on the twitter data but before we can do that, we need to download it and do some basic data pre-processing. \n",
        "\n",
        "I used `tweepy` which is a python wrapper library for the Twitter API that gives you more control on how you query the API.\n",
        "\n",
        "To get a good chunk of data for the test dataset, I downloaded data using the key words `'indyref2'`, `'scottish independence'` and `'scotref'` through the API search function."
      ]
    },
    {
      "cell_type": "code",
      "metadata": {
        "id": "3ITZBj5FxvLJ",
        "colab_type": "code",
        "colab": {}
      },
      "source": [
        "# Define keys\n",
        "consumer_key= 'YOUR KEY'\n",
        "consumer_secret= 'YOUR SECRET'\n",
        "access_token= 'YOUR TOKEN'\n",
        "access_token_secret= 'YOUR TOKEN SECRET'"
      ],
      "execution_count": 0,
      "outputs": []
    },
    {
      "cell_type": "code",
      "metadata": {
        "id": "L4DXngSWyET5",
        "colab_type": "code",
        "colab": {}
      },
      "source": [
        "# Authentication\n",
        "auth = tw.OAuthHandler(consumer_key, consumer_secret)\n",
        "auth.set_access_token(access_token, access_token_secret)\n",
        "api = tw.API(auth, wait_on_rate_limit=True)"
      ],
      "execution_count": 0,
      "outputs": []
    },
    {
      "cell_type": "code",
      "metadata": {
        "id": "dErM-yNfyUHt",
        "colab_type": "code",
        "colab": {}
      },
      "source": [
        "# Post a tweet from Python\n",
        "api.update_status(\"Test tweet from Python \")\n",
        "# Your tweet has been posted!"
      ],
      "execution_count": 0,
      "outputs": []
    },
    {
      "cell_type": "code",
      "metadata": {
        "id": "ySr4R0Kp6tvr",
        "colab_type": "code",
        "colab": {}
      },
      "source": [
        "# Define the search term and the date_since date as variables\n",
        "start_time = time.time()\n",
        "\n",
        "max_id = -1000000000000000000000000000000000\n",
        "tweetsPerQry = 100  # this is the max the API permits\n",
        "search_words = '(indyref2 OR \"scottish independence\" OR scotref)'\n",
        "date_since = \"2019-12-10\" \n",
        "\n",
        "# Collect tweets\n",
        "# open/create a csv file to append data\n",
        "csvFile = open(search_words + '_data2.csv', 'w', encoding='utf-8')\n",
        "\n",
        "# use csv Writer\n",
        "csvWriter = csv.writer(csvFile)\n",
        "\n",
        "# get data from twitter\n",
        "tweet_num = 0\n",
        "for tweet in tw.Cursor(api.search,q=search_words + ' -RT',count=tweetsPerQry,lang=\"en\", \n",
        "                       since=date_since, max_id=str(max_id - 1)).items(9999999999):\n",
        "    if tweet.place is not None:\n",
        "        try:\n",
        "            # not entirely necessary but you can inspect what is being written to file\n",
        "            print ('tweet number: {}'.format(tweet_num), tweet.text, tweet.place.full_name)\n",
        "            # write data to csv\n",
        "            csvWriter.writerow([tweet.created_at,\n",
        "                                tweet.user.location,\n",
        "                                tweet.user.followers_count,\n",
        "                                tweet.user.friends_count,\n",
        "                                tweet.text,\n",
        "                                tweet.place.bounding_box.coordinates,\n",
        "                                tweet.place.full_name,\n",
        "                                tweet.place.country,\n",
        "                                tweet.place.country_code,\n",
        "                                tweet.place.place_type])\n",
        "            tweet_num += 1\n",
        "            \n",
        "        except Exception:\n",
        "            pass\n",
        "\n",
        "print(\"--- %s seconds ---\" % (time.time() - start_time))"
      ],
      "execution_count": 0,
      "outputs": []
    },
    {
      "cell_type": "code",
      "metadata": {
        "id": "CyIHXPNLL5AK",
        "colab_type": "code",
        "colab": {}
      },
      "source": [
        "# create column names\n",
        "col_names=['date','user_loc','followers','friends','message','bbox_coords',\\\n",
        "           'full_name','country','country_code','place_type']\n",
        "\n",
        "# read csv\n",
        "df_twtr = pd.read_csv('/content/(indyref2 OR \"scottish independence\" OR scotref)_data2.csv', names=col_names)\n",
        "\n",
        "# check head\n",
        "df_twtr.head()"
      ],
      "execution_count": 0,
      "outputs": []
    },
    {
      "cell_type": "code",
      "metadata": {
        "id": "QZywKWyqRops",
        "colab_type": "code",
        "colab": {}
      },
      "source": [
        "# Sort dataframe by date column\n",
        "df_twtr['date'] = pd.to_datetime(df_twtr['date'])\n",
        "df_twtr = df_twtr.sort_values(by='date',ascending=True)\n",
        "df_twtr = df_twtr.reset_index().drop('index',axis=1)\n",
        "df_twtr.head()"
      ],
      "execution_count": 0,
      "outputs": []
    },
    {
      "cell_type": "code",
      "metadata": {
        "id": "o0u8asr5RxLG",
        "colab_type": "code",
        "outputId": "2e1fd4d0-b185-47ff-f43f-0cc2428a39c7",
        "colab": {
          "base_uri": "https://localhost:8080/",
          "height": 289
        }
      },
      "source": [
        "# get central geo location from the bounding box for later mapping\n",
        "# helper function to get mean of lats and longs\n",
        "def geo_mean(x):\n",
        "    y = json.loads(x)\n",
        "    y = np.asarray(y)\n",
        "    mean_geoloc = np.add(np.add((y[:][0][0]),(y[:][0][1]))/2,\\\n",
        "                         (np.add((y[:][0][2]),(y[:][0][3]))/2))/2    \n",
        "    return np.around(mean_geoloc,decimals=6)\n",
        "\n",
        "# ____________________________________________________________\n",
        "\n",
        "# append new column  and clean up df\n",
        "df_twtr['geo_code'] = df_twtr['bbox_coords'].apply(geo_mean)\n",
        "df_twtr = df_twtr.drop(['bbox_coords','place_type','followers','friends'],axis=1)\n",
        "df_twtr.head()"
      ],
      "execution_count": 0,
      "outputs": [
        {
          "output_type": "execute_result",
          "data": {
            "text/html": [
              "<div>\n",
              "<style scoped>\n",
              "    .dataframe tbody tr th:only-of-type {\n",
              "        vertical-align: middle;\n",
              "    }\n",
              "\n",
              "    .dataframe tbody tr th {\n",
              "        vertical-align: top;\n",
              "    }\n",
              "\n",
              "    .dataframe thead th {\n",
              "        text-align: right;\n",
              "    }\n",
              "</style>\n",
              "<table border=\"1\" class=\"dataframe\">\n",
              "  <thead>\n",
              "    <tr style=\"text-align: right;\">\n",
              "      <th></th>\n",
              "      <th>date</th>\n",
              "      <th>user_loc</th>\n",
              "      <th>message</th>\n",
              "      <th>full_name</th>\n",
              "      <th>country</th>\n",
              "      <th>country_code</th>\n",
              "      <th>geo_code</th>\n",
              "    </tr>\n",
              "  </thead>\n",
              "  <tbody>\n",
              "    <tr>\n",
              "      <th>0</th>\n",
              "      <td>2020-01-08 13:49:18</td>\n",
              "      <td>Glasgow, Scotland</td>\n",
              "      <td>Can anyone in Scotland be arsed with this for another 5 years? Tories continue to shout down Scotland’s elected rep… https://t.co/xw8FDFOtwG</td>\n",
              "      <td>Glasgow, Scotland</td>\n",
              "      <td>United Kingdom</td>\n",
              "      <td>GB</td>\n",
              "      <td>[-4.241751, 55.858303]</td>\n",
              "    </tr>\n",
              "    <tr>\n",
              "      <th>1</th>\n",
              "      <td>2020-01-08 13:59:26</td>\n",
              "      <td>London, England</td>\n",
              "      <td>https://t.co/B6inPM8K8C\\n\\nThe Scottish Laa-Laas have IndyRef2 on their minds like they have been brainwashed by a religious cult.</td>\n",
              "      <td>Hillingdon, London</td>\n",
              "      <td>United Kingdom</td>\n",
              "      <td>GB</td>\n",
              "      <td>[-0.442361, 51.537061]</td>\n",
              "    </tr>\n",
              "    <tr>\n",
              "      <th>2</th>\n",
              "      <td>2020-01-08 14:59:35</td>\n",
              "      <td>Cardiff, Wales</td>\n",
              "      <td>@alcampian Scotlands best chance of independence is not any #indyref2 it's to ask the other 3 nations if they want… https://t.co/TZv4hynstr</td>\n",
              "      <td>Cardiff, Wales</td>\n",
              "      <td>United Kingdom</td>\n",
              "      <td>GB</td>\n",
              "      <td>[-3.1798, 51.497002]</td>\n",
              "    </tr>\n",
              "    <tr>\n",
              "      <th>3</th>\n",
              "      <td>2020-01-08 15:23:24</td>\n",
              "      <td>Scotland</td>\n",
              "      <td>I’m not surprised (in the slightest) that @BorisJohnson has refused @NicolaSturgeon’s request to hold #Indyref2. Bu… https://t.co/T5yl0Ev9PD</td>\n",
              "      <td>Glasgow, Scotland</td>\n",
              "      <td>United Kingdom</td>\n",
              "      <td>GB</td>\n",
              "      <td>[-4.241751, 55.858303]</td>\n",
              "    </tr>\n",
              "    <tr>\n",
              "      <th>4</th>\n",
              "      <td>2020-01-08 15:44:58</td>\n",
              "      <td>Scotland+</td>\n",
              "      <td>@anninnis @BBCPolitics Vote NO to stay in the EU they said in 2014. Things change, time for IndyRef2</td>\n",
              "      <td>Glasgow, Scotland</td>\n",
              "      <td>United Kingdom</td>\n",
              "      <td>GB</td>\n",
              "      <td>[-4.241751, 55.858303]</td>\n",
              "    </tr>\n",
              "  </tbody>\n",
              "</table>\n",
              "</div>"
            ],
            "text/plain": [
              "                 date           user_loc  ... country_code                geo_code\n",
              "0 2020-01-08 13:49:18  Glasgow, Scotland  ...           GB  [-4.241751, 55.858303]\n",
              "1 2020-01-08 13:59:26    London, England  ...           GB  [-0.442361, 51.537061]\n",
              "2 2020-01-08 14:59:35     Cardiff, Wales  ...           GB    [-3.1798, 51.497002]\n",
              "3 2020-01-08 15:23:24           Scotland  ...           GB  [-4.241751, 55.858303]\n",
              "4 2020-01-08 15:44:58          Scotland+  ...           GB  [-4.241751, 55.858303]\n",
              "\n",
              "[5 rows x 7 columns]"
            ]
          },
          "metadata": {
            "tags": []
          },
          "execution_count": 20
        }
      ]
    },
    {
      "cell_type": "code",
      "metadata": {
        "id": "l8-cER3tcUi9",
        "colab_type": "code",
        "colab": {}
      },
      "source": [
        "# Save as csv\n",
        "df_twtr.to_csv('/content/drive/My Drive/Twitter_Project/df_indyref2.csv')"
      ],
      "execution_count": 0,
      "outputs": []
    },
    {
      "cell_type": "code",
      "metadata": {
        "id": "_3ig8ggSchX8",
        "colab_type": "code",
        "colab": {}
      },
      "source": [
        "# Load back in\n",
        "test = pd.read_csv('/content/drive/My Drive/Twitter_Project/df_indyref2.csv')"
      ],
      "execution_count": 0,
      "outputs": []
    },
    {
      "cell_type": "code",
      "metadata": {
        "id": "-BBb5fCCoC5G",
        "colab_type": "code",
        "outputId": "f5af2573-ffb7-426e-e34b-ed82e71535cc",
        "colab": {
          "base_uri": "https://localhost:8080/",
          "height": 35
        }
      },
      "source": [
        "test.shape"
      ],
      "execution_count": 0,
      "outputs": [
        {
          "output_type": "execute_result",
          "data": {
            "text/plain": [
              "(636, 8)"
            ]
          },
          "metadata": {
            "tags": []
          },
          "execution_count": 7
        }
      ]
    },
    {
      "cell_type": "markdown",
      "metadata": {
        "id": "CtSsCpa3b3qc",
        "colab_type": "text"
      },
      "source": [
        "This is the dataset we will use as the `test` data."
      ]
    },
    {
      "cell_type": "markdown",
      "metadata": {
        "id": "gBVfrfto6yNU",
        "colab_type": "text"
      },
      "source": [
        "### 2.2. Training data set"
      ]
    },
    {
      "cell_type": "code",
      "metadata": {
        "id": "BlPA5e-WDlh0",
        "colab_type": "code",
        "colab": {}
      },
      "source": [
        "# Load train dataset\n",
        "train  = pd.read_csv('/content/drive/My Drive/Twitter_Project/training.1600000.processed.noemoticon.csv', \n",
        "                 header=None, \n",
        "                 names=['label', 'id', 'date', 'flag', 'user', 'text'],\n",
        "                 encoding='latin-1')"
      ],
      "execution_count": 0,
      "outputs": []
    },
    {
      "cell_type": "code",
      "metadata": {
        "id": "hoCgLZy5EiB6",
        "colab_type": "code",
        "outputId": "99d9cd45-898c-4ec4-c685-58ed9f64381c",
        "colab": {
          "base_uri": "https://localhost:8080/",
          "height": 193
        }
      },
      "source": [
        "train.head(3)"
      ],
      "execution_count": 0,
      "outputs": [
        {
          "output_type": "execute_result",
          "data": {
            "text/html": [
              "<div>\n",
              "<style scoped>\n",
              "    .dataframe tbody tr th:only-of-type {\n",
              "        vertical-align: middle;\n",
              "    }\n",
              "\n",
              "    .dataframe tbody tr th {\n",
              "        vertical-align: top;\n",
              "    }\n",
              "\n",
              "    .dataframe thead th {\n",
              "        text-align: right;\n",
              "    }\n",
              "</style>\n",
              "<table border=\"1\" class=\"dataframe\">\n",
              "  <thead>\n",
              "    <tr style=\"text-align: right;\">\n",
              "      <th></th>\n",
              "      <th>label</th>\n",
              "      <th>id</th>\n",
              "      <th>date</th>\n",
              "      <th>flag</th>\n",
              "      <th>user</th>\n",
              "      <th>text</th>\n",
              "    </tr>\n",
              "  </thead>\n",
              "  <tbody>\n",
              "    <tr>\n",
              "      <th>0</th>\n",
              "      <td>0</td>\n",
              "      <td>1467810369</td>\n",
              "      <td>Mon Apr 06 22:19:45 PDT 2009</td>\n",
              "      <td>NO_QUERY</td>\n",
              "      <td>_TheSpecialOne_</td>\n",
              "      <td>@switchfoot http://twitpic.com/2y1zl - Awww, that's a bummer.  You shoulda got David Carr of Third Day to do it. ;D</td>\n",
              "    </tr>\n",
              "    <tr>\n",
              "      <th>1</th>\n",
              "      <td>0</td>\n",
              "      <td>1467810672</td>\n",
              "      <td>Mon Apr 06 22:19:49 PDT 2009</td>\n",
              "      <td>NO_QUERY</td>\n",
              "      <td>scotthamilton</td>\n",
              "      <td>is upset that he can't update his Facebook by texting it... and might cry as a result  School today also. Blah!</td>\n",
              "    </tr>\n",
              "    <tr>\n",
              "      <th>2</th>\n",
              "      <td>0</td>\n",
              "      <td>1467810917</td>\n",
              "      <td>Mon Apr 06 22:19:53 PDT 2009</td>\n",
              "      <td>NO_QUERY</td>\n",
              "      <td>mattycus</td>\n",
              "      <td>@Kenichan I dived many times for the ball. Managed to save 50%  The rest go out of bounds</td>\n",
              "    </tr>\n",
              "  </tbody>\n",
              "</table>\n",
              "</div>"
            ],
            "text/plain": [
              "   label  ...                                                                                                                 text\n",
              "0      0  ...  @switchfoot http://twitpic.com/2y1zl - Awww, that's a bummer.  You shoulda got David Carr of Third Day to do it. ;D\n",
              "1      0  ...      is upset that he can't update his Facebook by texting it... and might cry as a result  School today also. Blah!\n",
              "2      0  ...                            @Kenichan I dived many times for the ball. Managed to save 50%  The rest go out of bounds\n",
              "\n",
              "[3 rows x 6 columns]"
            ]
          },
          "metadata": {
            "tags": []
          },
          "execution_count": 8
        }
      ]
    },
    {
      "cell_type": "markdown",
      "metadata": {
        "id": "iTxvB6YIdBR8",
        "colab_type": "text"
      },
      "source": [
        "## 3. Preprocessing\n",
        "\n",
        "Text is a highly unstructured form of data. Various types of noise are present in it and the data is not readily analysable without any pre-processing. The entire process of cleaning and standardisation of text, making it noise-free and ready for analysis is known as text preprocessing. We will divide it into 2 parts:\n",
        "\n",
        "- Data Exploration\n",
        "\n",
        "- Data Cleaning \n"
      ]
    },
    {
      "cell_type": "markdown",
      "metadata": {
        "id": "yQ1jC5PveHB3",
        "colab_type": "text"
      },
      "source": [
        "### 3.1 Data Exploration\n",
        "\n",
        "Let's check out a few things about the `train` data:\n",
        "\n",
        "\n"
      ]
    },
    {
      "cell_type": "code",
      "metadata": {
        "id": "deKrTt3VEmnY",
        "colab_type": "code",
        "outputId": "7673e256-3223-4c85-9eaf-5589d7461e13",
        "colab": {
          "base_uri": "https://localhost:8080/",
          "height": 69
        }
      },
      "source": [
        "train.label.value_counts()"
      ],
      "execution_count": 0,
      "outputs": [
        {
          "output_type": "execute_result",
          "data": {
            "text/plain": [
              "4    800000\n",
              "0    800000\n",
              "Name: label, dtype: int64"
            ]
          },
          "metadata": {
            "tags": []
          },
          "execution_count": 6
        }
      ]
    },
    {
      "cell_type": "markdown",
      "metadata": {
        "id": "3i0Jzq96YqRi",
        "colab_type": "text"
      },
      "source": [
        "Let's take a sample of the larger training data set to avoid long waiting times. "
      ]
    },
    {
      "cell_type": "code",
      "metadata": {
        "id": "xhKXbuS3Yx4o",
        "colab_type": "code",
        "colab": {}
      },
      "source": [
        "train = train.copy()\n",
        "train = train.sample(50000)"
      ],
      "execution_count": 0,
      "outputs": []
    },
    {
      "cell_type": "code",
      "metadata": {
        "id": "-Gn9qsGsY4_N",
        "colab_type": "code",
        "outputId": "a62bf121-4298-4fd1-bf0a-9ddd9d310845",
        "colab": {
          "base_uri": "https://localhost:8080/",
          "height": 69
        }
      },
      "source": [
        "train.label.value_counts()"
      ],
      "execution_count": 0,
      "outputs": [
        {
          "output_type": "execute_result",
          "data": {
            "text/plain": [
              "0    25160\n",
              "4    24840\n",
              "Name: label, dtype: int64"
            ]
          },
          "metadata": {
            "tags": []
          },
          "execution_count": 8
        }
      ]
    },
    {
      "cell_type": "code",
      "metadata": {
        "id": "_kwcmkEwFOci",
        "colab_type": "code",
        "outputId": "3093c465-d38b-44b5-891f-6b02d4e7dbf7",
        "colab": {
          "base_uri": "https://localhost:8080/",
          "height": 69
        }
      },
      "source": [
        "# check the number of positive vs. negative tagged sentences\n",
        "# 0 — the polarity of the tweet (0 = negative, 2 = neutral, 4 = positive)\n",
        "positives = train['label'][train.label == 4]\n",
        "negatives = train['label'][train.label == 0]\n",
        "\n",
        "print('number of positve tagged sentences is:  {}'.format(len(positives)))\n",
        "print('number of negative tagged sentences is: {}'.format(len(negatives)))\n",
        "print('total length of the data is:            {}'.format(train.shape[0]))"
      ],
      "execution_count": 0,
      "outputs": [
        {
          "output_type": "stream",
          "text": [
            "number of positve tagged sentences is:  24840\n",
            "number of negative tagged sentences is: 25160\n",
            "total length of the data is:            50000\n"
          ],
          "name": "stdout"
        }
      ]
    },
    {
      "cell_type": "markdown",
      "metadata": {
        "id": "kGSOASW9GEFB",
        "colab_type": "text"
      },
      "source": [
        "Dataset has 1.6million entries, with no null entries, and importantly for the “sentiment” column, even though the dataset description mentioned neutral class, the training set has no neutral class.\n",
        "50% of the data is with negative label, and another 50% with positive label.\n",
        "We can see there’s no skewness on the class division."
      ]
    },
    {
      "cell_type": "code",
      "metadata": {
        "id": "Ld8knSJeGKm3",
        "colab_type": "code",
        "colab": {}
      },
      "source": [
        "# Drop unnecesary columns\n",
        "# “id” column is unique ID for each tweet\n",
        "# “date” column is for date info for the tweet\n",
        "# “flag” column indicates whether the tweet has been collected with any particular query key word,\n",
        "#    but for this column, 100% of the entries are with value “NO_QUERY”\n",
        "# “user” column is the twitter handle name for the user who tweeted\n",
        "\n",
        "train.drop(['id','date','flag','user'],axis=1,inplace=True)"
      ],
      "execution_count": 0,
      "outputs": []
    },
    {
      "cell_type": "code",
      "metadata": {
        "id": "2aap6GHnGq4t",
        "colab_type": "code",
        "outputId": "4b39a3d6-4a57-4f0d-d1a5-324f9930496a",
        "colab": {
          "base_uri": "https://localhost:8080/",
          "height": 202
        }
      },
      "source": [
        "train.head(5)"
      ],
      "execution_count": 0,
      "outputs": [
        {
          "output_type": "execute_result",
          "data": {
            "text/html": [
              "<div>\n",
              "<style scoped>\n",
              "    .dataframe tbody tr th:only-of-type {\n",
              "        vertical-align: middle;\n",
              "    }\n",
              "\n",
              "    .dataframe tbody tr th {\n",
              "        vertical-align: top;\n",
              "    }\n",
              "\n",
              "    .dataframe thead th {\n",
              "        text-align: right;\n",
              "    }\n",
              "</style>\n",
              "<table border=\"1\" class=\"dataframe\">\n",
              "  <thead>\n",
              "    <tr style=\"text-align: right;\">\n",
              "      <th></th>\n",
              "      <th>label</th>\n",
              "      <th>text</th>\n",
              "    </tr>\n",
              "  </thead>\n",
              "  <tbody>\n",
              "    <tr>\n",
              "      <th>637591</th>\n",
              "      <td>0</td>\n",
              "      <td>@whateverrr06  pringle leh!</td>\n",
              "    </tr>\n",
              "    <tr>\n",
              "      <th>1230332</th>\n",
              "      <td>4</td>\n",
              "      <td>yey just got in on brogÃ¥rn</td>\n",
              "    </tr>\n",
              "    <tr>\n",
              "      <th>965550</th>\n",
              "      <td>4</td>\n",
              "      <td>still miserable out there. marquee from yesterdays bbq nearly flew away. philip and Anthony  on Wii, gin shouting at me from cupboard</td>\n",
              "    </tr>\n",
              "    <tr>\n",
              "      <th>820776</th>\n",
              "      <td>4</td>\n",
              "      <td>The day's almost over. Yay! Going outt..!</td>\n",
              "    </tr>\n",
              "    <tr>\n",
              "      <th>928339</th>\n",
              "      <td>4</td>\n",
              "      <td>@rustyrockets dont worry they will and for what they dont i will  xx</td>\n",
              "    </tr>\n",
              "  </tbody>\n",
              "</table>\n",
              "</div>"
            ],
            "text/plain": [
              "         label                                                                                                                                    text\n",
              "637591       0                                                                                                             @whateverrr06  pringle leh!\n",
              "1230332      4                                                                                                            yey just got in on brogÃ¥rn \n",
              "965550       4  still miserable out there. marquee from yesterdays bbq nearly flew away. philip and Anthony  on Wii, gin shouting at me from cupboard \n",
              "820776       4                                                                                              The day's almost over. Yay! Going outt..! \n",
              "928339       4                                                                    @rustyrockets dont worry they will and for what they dont i will  xx"
            ]
          },
          "metadata": {
            "tags": []
          },
          "execution_count": 11
        }
      ]
    },
    {
      "cell_type": "code",
      "metadata": {
        "id": "r_f72871HmHy",
        "colab_type": "code",
        "outputId": "85563f14-ad9b-4ddc-f54a-c4c183babf7c",
        "colab": {
          "base_uri": "https://localhost:8080/",
          "height": 141
        }
      },
      "source": [
        "# get a word count per sentence column\n",
        "def word_count(sentence):\n",
        "    return len(sentence.split())\n",
        "    \n",
        "train['word count'] = train['text'].apply(word_count)\n",
        "train.head(3)"
      ],
      "execution_count": 9,
      "outputs": [
        {
          "output_type": "execute_result",
          "data": {
            "text/html": [
              "<div>\n",
              "<style scoped>\n",
              "    .dataframe tbody tr th:only-of-type {\n",
              "        vertical-align: middle;\n",
              "    }\n",
              "\n",
              "    .dataframe tbody tr th {\n",
              "        vertical-align: top;\n",
              "    }\n",
              "\n",
              "    .dataframe thead th {\n",
              "        text-align: right;\n",
              "    }\n",
              "</style>\n",
              "<table border=\"1\" class=\"dataframe\">\n",
              "  <thead>\n",
              "    <tr style=\"text-align: right;\">\n",
              "      <th></th>\n",
              "      <th>label</th>\n",
              "      <th>text</th>\n",
              "      <th>word count</th>\n",
              "    </tr>\n",
              "  </thead>\n",
              "  <tbody>\n",
              "    <tr>\n",
              "      <th>0</th>\n",
              "      <td>0</td>\n",
              "      <td>@switchfoot http://twitpic.com/2y1zl - Awww, that's a bummer.  You shoulda got David Carr of Third Day to do it. ;D</td>\n",
              "      <td>19</td>\n",
              "    </tr>\n",
              "    <tr>\n",
              "      <th>1</th>\n",
              "      <td>0</td>\n",
              "      <td>is upset that he can't update his Facebook by texting it... and might cry as a result  School today also. Blah!</td>\n",
              "      <td>21</td>\n",
              "    </tr>\n",
              "    <tr>\n",
              "      <th>2</th>\n",
              "      <td>0</td>\n",
              "      <td>@Kenichan I dived many times for the ball. Managed to save 50%  The rest go out of bounds</td>\n",
              "      <td>18</td>\n",
              "    </tr>\n",
              "  </tbody>\n",
              "</table>\n",
              "</div>"
            ],
            "text/plain": [
              "   label  ... word count\n",
              "0      0  ...         19\n",
              "1      0  ...         21\n",
              "2      0  ...         18\n",
              "\n",
              "[3 rows x 3 columns]"
            ]
          },
          "metadata": {
            "tags": []
          },
          "execution_count": 9
        }
      ]
    },
    {
      "cell_type": "code",
      "metadata": {
        "id": "3dfZ3IuqHLZ1",
        "colab_type": "code",
        "outputId": "6c4d1d4c-5f74-4ad3-88d1-26155269095b",
        "colab": {
          "base_uri": "https://localhost:8080/",
          "height": 409
        }
      },
      "source": [
        "# plot word count distribution for both positive and negative sentiments\n",
        "plt.style.use(style='ggplot')\n",
        "plt.rcParams['figure.figsize'] = (10, 6)\n",
        "pd.set_option(\"display.max_colwidth\", 200) \n",
        "\n",
        "x = train['word count'][train.label == 4]\n",
        "y = train['word count'][train.label == 0]\n",
        "plt.xlim(0,45)\n",
        "plt.xlabel('word count')\n",
        "plt.ylabel('frequency')\n",
        "g = plt.hist([x, y], color=['b','r'], alpha=0.5, label=['positive','negative'])\n",
        "plt.legend(loc='upper right');"
      ],
      "execution_count": 14,
      "outputs": [
        {
          "output_type": "execute_result",
          "data": {
            "text/plain": [
              "<matplotlib.legend.Legend at 0x7f99468d3668>"
            ]
          },
          "metadata": {
            "tags": []
          },
          "execution_count": 14
        },
        {
          "output_type": "display_data",
          "data": {
            "image/png": "[encoded data removed]",
            "text/plain": [
              "<Figure size 720x432 with 1 Axes>"
            ]
          },
          "metadata": {
            "tags": []
          }
        }
      ]
    },
    {
      "cell_type": "code",
      "metadata": {
        "id": "d29pj0waXtu6",
        "colab_type": "code",
        "outputId": "2b0466d1-3409-48ec-93cb-86c645bee1af",
        "colab": {
          "base_uri": "https://localhost:8080/",
          "height": 191
        }
      },
      "source": [
        "# get most common words in training dataset\n",
        "all_words = []\n",
        "for line in list(train['text']):\n",
        "    words = line.split()\n",
        "    for word in words:\n",
        "        all_words.append(word.lower())\n",
        "    \n",
        "    \n",
        "Counter(all_words).most_common(10)"
      ],
      "execution_count": 12,
      "outputs": [
        {
          "output_type": "execute_result",
          "data": {
            "text/plain": [
              "[('i', 746635),\n",
              " ('to', 560314),\n",
              " ('the', 518734),\n",
              " ('a', 376422),\n",
              " ('my', 312846),\n",
              " ('and', 295675),\n",
              " ('you', 237766),\n",
              " ('is', 231086),\n",
              " ('for', 214051),\n",
              " ('in', 209960)]"
            ]
          },
          "metadata": {
            "tags": []
          },
          "execution_count": 12
        }
      ]
    },
    {
      "cell_type": "markdown",
      "metadata": {
        "id": "UeCYF-ipZXRC",
        "colab_type": "text"
      },
      "source": [
        "In the cell above we extract the most common words in the dataset and list the top ten.\n",
        "\n",
        "Perhaps to no surprise we encounter words like 'i', and and is as they are very highly used in human expressions. These kind of words usually appear equally in both negative and positive oriented expressions and as such they bring very little information that can be incorporated in the model so we will have to get rid of them down the road.\n",
        "\n",
        "In the text preprocessing steps later on we will learn how to deal with these common words that don't add much to the feature space.\n",
        "\n",
        "Below is a graph showing the frequency of the first 25 words.\n",
        "\n",
        "I also created a log-log plot for the words frequency which is similar to the previous frequency graph but includes all words and is plotted on a base 10 logarithimic scale which helps us visualize the rapidly diminishing frequency of words as their rank drops.\n",
        "\n",
        "The word distribution present in this data dictionary is a very common phenomenon in large samples of words as shown by Zipf's law where the most frequent word will occur about twice as often as the second most frequent word, three times as often as the third most frequent word, etc.\n",
        "It would be intersting to see if this holds true after we remove words like i, and and is from the observation above."
      ]
    },
    {
      "cell_type": "code",
      "metadata": {
        "id": "NzJOn41qX_wn",
        "colab_type": "code",
        "outputId": "243cb652-4754-42c4-a3ad-1be2592098ee",
        "colab": {
          "base_uri": "https://localhost:8080/",
          "height": 843
        }
      },
      "source": [
        "# plot word frequency distribution of first few words\n",
        "plt.title('Top 25 most common words')\n",
        "plt.xticks(fontsize=13, rotation=90)\n",
        "fd = nltk.FreqDist(all_words)\n",
        "fd.plot(25,cumulative=False)\n",
        "\n",
        "# log-log plot\n",
        "word_counts = sorted(Counter(all_words).values(), reverse=True)\n",
        "plt.loglog(word_counts, linestyle='-', linewidth=1.5)\n",
        "plt.ylabel(\"Freq\")\n",
        "plt.xlabel(\"Word Rank\")\n",
        "plt.title('log-log plot of words frequency')"
      ],
      "execution_count": 13,
      "outputs": [
        {
          "output_type": "display_data",
          "data": {
            "image/png": "[encoded data removed]",
            "text/plain": [
              "<Figure size 720x432 with 1 Axes>"
            ]
          },
          "metadata": {
            "tags": []
          }
        },
        {
          "output_type": "execute_result",
          "data": {
            "text/plain": [
              "Text(0.5, 1.0, 'log-log plot of words frequency')"
            ]
          },
          "metadata": {
            "tags": []
          },
          "execution_count": 13
        },
        {
          "output_type": "display_data",
          "data": {
            "image/png": "[encoded data removed]",
            "text/plain": [
              "<Figure size 720x432 with 1 Axes>"
            ]
          },
          "metadata": {
            "tags": []
          }
        }
      ]
    },
    {
      "cell_type": "code",
      "metadata": {
        "id": "urM154fFeVZ9",
        "colab_type": "code",
        "outputId": "19da4dcd-7c86-4942-d178-04f4051c4344",
        "colab": {
          "base_uri": "https://localhost:8080/",
          "height": 355
        }
      },
      "source": [
        "# Let’s check out a few positive/negative labelled tweets:\n",
        "\n",
        "train[train['label'] == 0].head(10) # negative"
      ],
      "execution_count": 0,
      "outputs": [
        {
          "output_type": "execute_result",
          "data": {
            "text/html": [
              "<div>\n",
              "<style scoped>\n",
              "    .dataframe tbody tr th:only-of-type {\n",
              "        vertical-align: middle;\n",
              "    }\n",
              "\n",
              "    .dataframe tbody tr th {\n",
              "        vertical-align: top;\n",
              "    }\n",
              "\n",
              "    .dataframe thead th {\n",
              "        text-align: right;\n",
              "    }\n",
              "</style>\n",
              "<table border=\"1\" class=\"dataframe\">\n",
              "  <thead>\n",
              "    <tr style=\"text-align: right;\">\n",
              "      <th></th>\n",
              "      <th>label</th>\n",
              "      <th>text</th>\n",
              "      <th>word count</th>\n",
              "    </tr>\n",
              "  </thead>\n",
              "  <tbody>\n",
              "    <tr>\n",
              "      <th>532647</th>\n",
              "      <td>0</td>\n",
              "      <td>now doing the weights again...urgh  my poor laptop is burning up in this summer evening's heat</td>\n",
              "      <td>16</td>\n",
              "    </tr>\n",
              "    <tr>\n",
              "      <th>715413</th>\n",
              "      <td>0</td>\n",
              "      <td>@Ambluc, cool thanks, having trouble  back replying to anyone, the little arrow is not working</td>\n",
              "      <td>15</td>\n",
              "    </tr>\n",
              "    <tr>\n",
              "      <th>594276</th>\n",
              "      <td>0</td>\n",
              "      <td>@angelgregzion I've never seen it.  I am not much of a movie buff.</td>\n",
              "      <td>13</td>\n",
              "    </tr>\n",
              "    <tr>\n",
              "      <th>197250</th>\n",
              "      <td>0</td>\n",
              "      <td>@jmlane Fanboys was viewed, and an attempt to view JCVD was made, however it was in French without subtitles</td>\n",
              "      <td>19</td>\n",
              "    </tr>\n",
              "    <tr>\n",
              "      <th>248996</th>\n",
              "      <td>0</td>\n",
              "      <td>It's 2am and I still can't sleep. I have class in 5 hour...</td>\n",
              "      <td>13</td>\n",
              "    </tr>\n",
              "    <tr>\n",
              "      <th>419778</th>\n",
              "      <td>0</td>\n",
              "      <td>wow i accidentally pressed some buttons when my phone was in the pocket and it said 321.... how weird it that?! should i be scared?</td>\n",
              "      <td>25</td>\n",
              "    </tr>\n",
              "    <tr>\n",
              "      <th>703692</th>\n",
              "      <td>0</td>\n",
              "      <td>@SirMikeyB Painkillers for... erm... that thing we get that you don't lol. I miss you, everytime I sign into Skype it's so dead</td>\n",
              "      <td>23</td>\n",
              "    </tr>\n",
              "    <tr>\n",
              "      <th>286826</th>\n",
              "      <td>0</td>\n",
              "      <td>@jennasie crap  I can't get weekends off</td>\n",
              "      <td>7</td>\n",
              "    </tr>\n",
              "    <tr>\n",
              "      <th>314549</th>\n",
              "      <td>0</td>\n",
              "      <td>@mikedignammusic nooo, dont be a juggler  you're voice is too nice!</td>\n",
              "      <td>11</td>\n",
              "    </tr>\n",
              "    <tr>\n",
              "      <th>59378</th>\n",
              "      <td>0</td>\n",
              "      <td>Cannot push the L1 button</td>\n",
              "      <td>5</td>\n",
              "    </tr>\n",
              "  </tbody>\n",
              "</table>\n",
              "</div>"
            ],
            "text/plain": [
              "        label  ... word count\n",
              "532647      0  ...         16\n",
              "715413      0  ...         15\n",
              "594276      0  ...         13\n",
              "197250      0  ...         19\n",
              "248996      0  ...         13\n",
              "419778      0  ...         25\n",
              "703692      0  ...         23\n",
              "286826      0  ...          7\n",
              "314549      0  ...         11\n",
              "59378       0  ...          5\n",
              "\n",
              "[10 rows x 3 columns]"
            ]
          },
          "metadata": {
            "tags": []
          },
          "execution_count": 15
        }
      ]
    },
    {
      "cell_type": "code",
      "metadata": {
        "id": "eVJaZSerenpY",
        "colab_type": "code",
        "outputId": "dd66f396-23fc-4d2a-f87c-2d9d2a0082e3",
        "colab": {
          "base_uri": "https://localhost:8080/",
          "height": 355
        }
      },
      "source": [
        "train[train['label'] == 4].head(10) # positive"
      ],
      "execution_count": 0,
      "outputs": [
        {
          "output_type": "execute_result",
          "data": {
            "text/html": [
              "<div>\n",
              "<style scoped>\n",
              "    .dataframe tbody tr th:only-of-type {\n",
              "        vertical-align: middle;\n",
              "    }\n",
              "\n",
              "    .dataframe tbody tr th {\n",
              "        vertical-align: top;\n",
              "    }\n",
              "\n",
              "    .dataframe thead th {\n",
              "        text-align: right;\n",
              "    }\n",
              "</style>\n",
              "<table border=\"1\" class=\"dataframe\">\n",
              "  <thead>\n",
              "    <tr style=\"text-align: right;\">\n",
              "      <th></th>\n",
              "      <th>label</th>\n",
              "      <th>text</th>\n",
              "      <th>word count</th>\n",
              "    </tr>\n",
              "  </thead>\n",
              "  <tbody>\n",
              "    <tr>\n",
              "      <th>1519359</th>\n",
              "      <td>4</td>\n",
              "      <td>is it LOVE or BREAD???</td>\n",
              "      <td>5</td>\n",
              "    </tr>\n",
              "    <tr>\n",
              "      <th>1004219</th>\n",
              "      <td>4</td>\n",
              "      <td>just done my weekly weigh in. on target  woohoo</td>\n",
              "      <td>9</td>\n",
              "    </tr>\n",
              "    <tr>\n",
              "      <th>1470971</th>\n",
              "      <td>4</td>\n",
              "      <td>@LeiRock lmaoo, oh yeahh ! well im stoooopid happy</td>\n",
              "      <td>9</td>\n",
              "    </tr>\n",
              "    <tr>\n",
              "      <th>1439833</th>\n",
              "      <td>4</td>\n",
              "      <td>@KatyinIndy they can't help themselves</td>\n",
              "      <td>5</td>\n",
              "    </tr>\n",
              "    <tr>\n",
              "      <th>923795</th>\n",
              "      <td>4</td>\n",
              "      <td>just finished painting my nails a nice coral colour... I'm feeling all summery</td>\n",
              "      <td>13</td>\n",
              "    </tr>\n",
              "    <tr>\n",
              "      <th>825942</th>\n",
              "      <td>4</td>\n",
              "      <td>@Clippernolan Ya, I was that girl</td>\n",
              "      <td>6</td>\n",
              "    </tr>\n",
              "    <tr>\n",
              "      <th>1009742</th>\n",
              "      <td>4</td>\n",
              "      <td>@wickedmickey Sincere thanks to you. Just signing off for the evening, may your day be divine.</td>\n",
              "      <td>16</td>\n",
              "    </tr>\n",
              "    <tr>\n",
              "      <th>1549109</th>\n",
              "      <td>4</td>\n",
              "      <td>Save up enough money to buy my flute now. Bring on the weekend.</td>\n",
              "      <td>13</td>\n",
              "    </tr>\n",
              "    <tr>\n",
              "      <th>1007680</th>\n",
              "      <td>4</td>\n",
              "      <td>aww bradie and andy are in the trending topics without shaun! #shaundiviney #shaundiviney #shaundiviney #shaundiviney #shaundiviney</td>\n",
              "      <td>16</td>\n",
              "    </tr>\n",
              "    <tr>\n",
              "      <th>1219958</th>\n",
              "      <td>4</td>\n",
              "      <td>@TaniliciousBabe no, she didn't reply to me =( Tanita is nice name too  i'm good thanks. and u?</td>\n",
              "      <td>18</td>\n",
              "    </tr>\n",
              "  </tbody>\n",
              "</table>\n",
              "</div>"
            ],
            "text/plain": [
              "         label  ... word count\n",
              "1519359      4  ...          5\n",
              "1004219      4  ...          9\n",
              "1470971      4  ...          9\n",
              "1439833      4  ...          5\n",
              "923795       4  ...         13\n",
              "825942       4  ...          6\n",
              "1009742      4  ...         16\n",
              "1549109      4  ...         13\n",
              "1007680      4  ...         16\n",
              "1219958      4  ...         18\n",
              "\n",
              "[10 rows x 3 columns]"
            ]
          },
          "metadata": {
            "tags": []
          },
          "execution_count": 16
        }
      ]
    },
    {
      "cell_type": "code",
      "metadata": {
        "id": "N0FL_8qMcVYc",
        "colab_type": "code",
        "outputId": "44c352ea-8de2-452e-e392-1cb4c6fc7c5d",
        "colab": {
          "base_uri": "https://localhost:8080/",
          "height": 87
        }
      },
      "source": [
        "train.dtypes"
      ],
      "execution_count": 0,
      "outputs": [
        {
          "output_type": "execute_result",
          "data": {
            "text/plain": [
              "label          int64\n",
              "text          object\n",
              "word count     int64\n",
              "dtype: object"
            ]
          },
          "metadata": {
            "tags": []
          },
          "execution_count": 18
        }
      ]
    },
    {
      "cell_type": "markdown",
      "metadata": {
        "id": "KdKFvHyLexoq",
        "colab_type": "text"
      },
      "source": [
        "There are quite a many words and characters which are not really required. So, we will try to keep only those words which are important and add value.\n"
      ]
    },
    {
      "cell_type": "markdown",
      "metadata": {
        "id": "UHXZfv3qonwK",
        "colab_type": "text"
      },
      "source": [
        "### 3.2 Data cleaning \n",
        "\n",
        "In any natural language processing task, cleaning raw text data is an important step. It helps in getting rid of the unwanted words and characters which helps in obtaining better features. \n",
        "\n",
        "The objective of this step is to clean noise those are less relevant to find the sentiment of tweets such as punctuation, special characters, numbers, and terms which don’t carry much weightage in context to the text."
      ]
    },
    {
      "cell_type": "markdown",
      "metadata": {
        "id": "fE41DAHEpewF",
        "colab_type": "text"
      },
      "source": [
        "We will be following these steps below to clean the raw tweets in out data:\n",
        "\n",
        "- We will remove HTML special entities\n",
        "\n",
        "- We will remove the twitter handles. These twitter hardly give any information about the nature of the tweet.\n",
        "\n",
        "- We will also get rid of the punctuations, numbers and even special characters since they wouldn’t help in differentiating different types of tweets.\n",
        "\n",
        "- Convert the tweet to lowercase\n",
        "\n",
        "- We will remove hyperlinks\n",
        "\n",
        "- We will remove punctuation and split 's, 't, 've with a space for filter\n",
        "\n",
        "- We will remove whitespace (including new line characters), and single space remaining at the front of the tweet.\n",
        "\n",
        "- We will also remove characters beyond Basic Multilingual Plane (BMP) of Unicode\n",
        "\n",
        "- Most of the smaller words do not add much value, so we will remove them as well.\n",
        "\n",
        "- Lastly, we will normalize the text data. For example, reducing terms like loves, loving, and lovable to their base word, i.e., ‘love’.are often used in the same context. If we can reduce them to their root word, which is ‘love’. It will help in reducing the total number of unique words in our data without losing a significant amount of information."
      ]
    },
    {
      "cell_type": "code",
      "metadata": {
        "id": "tpNetK7QSLc4",
        "colab_type": "code",
        "outputId": "5aeb0cd0-1235-4846-db5f-00eaf813b6f4",
        "colab": {
          "base_uri": "https://localhost:8080/",
          "height": 52
        }
      },
      "source": [
        "# Pipeline like preprocessing with helper functions\n",
        "\n",
        "nltk.download('stopwords')\n",
        "stop_words = stopwords.words('english')\n",
        "\n",
        "# cleaning helper function\n",
        "def processTweet(tweet):\n",
        "    \"\"\"\n",
        "    Takes in a string of text, then performs the following:\n",
        "    1. Removes links, special characters and other bulk cleaning\n",
        "    2. Returns a list of the tidy text\n",
        "    \"\"\"\n",
        "    # Remove HTML special entities (e.g. &amp;)\n",
        "    tweet = re.sub(r'\\&\\w*;', '', tweet)\n",
        "    #Convert @username to AT_USER\n",
        "    tweet = re.sub('@[^\\s]+','',tweet)\n",
        "    # Remove tickers\n",
        "    tweet = re.sub(r'\\$\\w*', '', tweet)\n",
        "    # To lowercase\n",
        "    tweet = tweet.lower()\n",
        "    # Remove hyperlinks\n",
        "    tweet = re.sub(r'https?:\\/\\/.*\\/\\w*', '', tweet)\n",
        "    # Remove hashtags\n",
        "    tweet = re.sub(r'#\\w*', '', tweet)\n",
        "    # Remove words with 2 or fewer letters\n",
        "    tweet = re.sub(r'\\b\\w{1,2}\\b', '', tweet)\n",
        "    # Remove whitespace (including new line characters)\n",
        "    tweet = re.sub(r'\\s\\s+', ' ', tweet)\n",
        "    # Remove single space remaining at the front of the tweet.\n",
        "    tweet = tweet.lstrip(' ') \n",
        "    # Remove characters beyond Basic Multilingual Plane (BMP) of Unicode:\n",
        "    tweet = ''.join(c for c in tweet if c <= '\\uFFFF') \n",
        "    return tweet\n",
        "\n",
        "# tokenize helper function\n",
        "def text_process(tweet):\n",
        "    \"\"\"\n",
        "    Takes in a string of text, then performs the following:\n",
        "    1. Remove all punctuation\n",
        "    2. Remove all stopwords\n",
        "    3. Returns a list of the cleaned text\n",
        "    \"\"\"\n",
        "    # Check characters to see if they are in punctuation\n",
        "    nopunc = [char for char in list(tweet) if char not in string.punctuation]\n",
        "\n",
        "    # Join the characters again to form the string.\n",
        "    nopunc = ''.join(nopunc)\n",
        "    \n",
        "    # Now just remove any stopwords\n",
        "    return [word for word in nopunc.lower().split() if word.lower() not in stopwords.words('english')]\n",
        "\n",
        "# Lexicon normalisation with Stemming \n",
        "def stemming(tokens):\n",
        "  \"\"\"\n",
        "  Takes in a string of text, then performs the following:\n",
        "  1. Replace words for its root based on orter Stemmer rule.\n",
        "  2. Returns normalised text\n",
        "   \"\"\"\n",
        "  stemmer = PorterStemmer()\n",
        "  x = [stemmer.stem(w) for w in tokens]\n",
        "   \n",
        "  return ' '.join(x)\n"
      ],
      "execution_count": 0,
      "outputs": [
        {
          "output_type": "stream",
          "text": [
            "[nltk_data] Downloading package stopwords to /root/nltk_data...\n",
            "[nltk_data]   Unzipping corpora/stopwords.zip.\n"
          ],
          "name": "stdout"
        }
      ]
    },
    {
      "cell_type": "code",
      "metadata": {
        "id": "sUtjZIsbdcI7",
        "colab_type": "code",
        "colab": {}
      },
      "source": [
        "# Preprocessing\n",
        "train['tidy_tweet'] = train.text.apply(processTweet)\n",
        "\n",
        "# Double check\n",
        "train['tidy_tweet'] = train.tidy_tweet.str.replace(\"[^a-zA-Z#]\", \" \") \n",
        "\n",
        "# tokenize tidy_tweet column and create a column for tokens\n",
        "train['tokens'] = train.tidy_tweet.apply(text_process) \n",
        "\n",
        "#Stemming\n",
        "train['tidy_tweet'] = train.tokens.apply(lambda x: stemming(x))\n"
      ],
      "execution_count": 0,
      "outputs": []
    },
    {
      "cell_type": "code",
      "metadata": {
        "id": "nZ1_CSCalwZh",
        "colab_type": "code",
        "outputId": "202bd36f-032b-4487-b268-c778de28bcc0",
        "colab": {
          "base_uri": "https://localhost:8080/",
          "height": 87
        }
      },
      "source": [
        "train.tidy_tweet.head(3)"
      ],
      "execution_count": 0,
      "outputs": [
        {
          "output_type": "execute_result",
          "data": {
            "text/plain": [
              "1519359                                       love bread\n",
              "532647     weight urgh poor laptop burn summer even heat\n",
              "1004219                  done weekli weigh target woohoo\n",
              "Name: tidy_tweet, dtype: object"
            ]
          },
          "metadata": {
            "tags": []
          },
          "execution_count": 23
        }
      ]
    },
    {
      "cell_type": "code",
      "metadata": {
        "id": "zPvn8oQ9qsxN",
        "colab_type": "code",
        "outputId": "c64b905b-04fe-45f2-acbe-7e64e4ff9c0c",
        "colab": {
          "base_uri": "https://localhost:8080/",
          "height": 191
        }
      },
      "source": [
        "train.info()"
      ],
      "execution_count": 0,
      "outputs": [
        {
          "output_type": "stream",
          "text": [
            "<class 'pandas.core.frame.DataFrame'>\n",
            "Int64Index: 50000 entries, 1519359 to 776577\n",
            "Data columns (total 5 columns):\n",
            "label         50000 non-null int64\n",
            "text          50000 non-null object\n",
            "word count    50000 non-null int64\n",
            "tidy_tweet    50000 non-null object\n",
            "tokens        50000 non-null object\n",
            "dtypes: int64(2), object(3)\n",
            "memory usage: 2.3+ MB\n"
          ],
          "name": "stdout"
        }
      ]
    },
    {
      "cell_type": "markdown",
      "metadata": {
        "id": "ZnbCP5hv2al4",
        "colab_type": "text"
      },
      "source": [
        "You can see the difference between the raw tweets (`text`) and the cleaned tweets (`tidy_tweet`) quite clearly. Only the important words in the tweets have been retained and the noise (numbers, punctuations, and special characters) has been removed."
      ]
    },
    {
      "cell_type": "code",
      "metadata": {
        "id": "7Cbi4tFDmf5M",
        "colab_type": "code",
        "colab": {}
      },
      "source": [
        "# Save cleaned dataset\n",
        "train.to_csv('/content/drive/My Drive/Twitter_Project/cleaned_train_data.csv', index=False)\n"
      ],
      "execution_count": 0,
      "outputs": []
    }
  ]
}